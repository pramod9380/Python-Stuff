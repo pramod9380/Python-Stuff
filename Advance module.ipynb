{
 "cells": [
  {
   "cell_type": "markdown",
   "id": "f59635c0",
   "metadata": {},
   "source": [
    "## Collection Module"
   ]
  },
  {
   "cell_type": "code",
   "execution_count": 1,
   "id": "0b33accb",
   "metadata": {},
   "outputs": [],
   "source": [
    "from collections import Counter"
   ]
  },
  {
   "cell_type": "code",
   "execution_count": 3,
   "id": "3eac4b18",
   "metadata": {},
   "outputs": [],
   "source": [
    "mylsit = [1,1,1,1,1,2,3,4,4,5,5,6,2,1,2,4]"
   ]
  },
  {
   "cell_type": "code",
   "execution_count": 4,
   "id": "8aac658d",
   "metadata": {},
   "outputs": [
    {
     "data": {
      "text/plain": [
       "Counter({1: 6, 2: 3, 3: 1, 4: 3, 5: 2, 6: 1})"
      ]
     },
     "execution_count": 4,
     "metadata": {},
     "output_type": "execute_result"
    }
   ],
   "source": [
    "Counter(mylsit)"
   ]
  },
  {
   "cell_type": "code",
   "execution_count": 5,
   "id": "1e867ceb",
   "metadata": {},
   "outputs": [
    {
     "data": {
      "text/plain": [
       "Counter({'s': 1,\n",
       "         'a': 4,\n",
       "         'l': 2,\n",
       "         'k': 1,\n",
       "         'm': 1,\n",
       "         'c': 1,\n",
       "         'n': 1,\n",
       "         'h': 3,\n",
       "         '.': 1,\n",
       "         'b': 1,\n",
       "         'u': 1,\n",
       "         'd': 4,\n",
       "         'g': 1,\n",
       "         'q': 4,\n",
       "         'w': 1,\n",
       "         'v': 1,\n",
       "         'y': 1})"
      ]
     },
     "execution_count": 5,
     "metadata": {},
     "output_type": "execute_result"
    }
   ],
   "source": [
    "Counter('salkmcnlah.ahabudgqhwddvyqdqq')"
   ]
  },
  {
   "cell_type": "code",
   "execution_count": 9,
   "id": "7fd39a9d",
   "metadata": {},
   "outputs": [
    {
     "data": {
      "text/plain": [
       "[('Hello', 1), ('My', 1)]"
      ]
     },
     "execution_count": 9,
     "metadata": {},
     "output_type": "execute_result"
    }
   ],
   "source": [
    "Counter('Hello My darlalnd iad aakndklas'.split()).most_common(2)"
   ]
  },
  {
   "cell_type": "code",
   "execution_count": 10,
   "id": "7c5d675e",
   "metadata": {},
   "outputs": [
    {
     "data": {
      "text/plain": [
       "dict_keys(['a', 's', 'k', 'n', 'j', 'l'])"
      ]
     },
     "execution_count": 10,
     "metadata": {},
     "output_type": "execute_result"
    }
   ],
   "source": [
    "c = Counter('asknakskjaskakslas')\n",
    "c.keys()"
   ]
  },
  {
   "cell_type": "code",
   "execution_count": 11,
   "id": "1233264e",
   "metadata": {},
   "outputs": [
    {
     "data": {
      "text/plain": [
       "dict_values([5, 5, 5, 1, 1, 1])"
      ]
     },
     "execution_count": 11,
     "metadata": {},
     "output_type": "execute_result"
    }
   ],
   "source": [
    "c.values()"
   ]
  },
  {
   "cell_type": "markdown",
   "id": "59f52b38",
   "metadata": {},
   "source": [
    "## Named Tuple"
   ]
  },
  {
   "cell_type": "code",
   "execution_count": 12,
   "id": "8565045d",
   "metadata": {},
   "outputs": [],
   "source": [
    "from collections import namedtuple"
   ]
  },
  {
   "cell_type": "code",
   "execution_count": 17,
   "id": "bef9e498",
   "metadata": {},
   "outputs": [],
   "source": [
    "Dog = namedtuple('Dog',['age','name','breed'])"
   ]
  },
  {
   "cell_type": "code",
   "execution_count": 18,
   "id": "d1fd4b70",
   "metadata": {},
   "outputs": [
    {
     "data": {
      "text/plain": [
       "type"
      ]
     },
     "execution_count": 18,
     "metadata": {},
     "output_type": "execute_result"
    }
   ],
   "source": [
    "type(Dog)"
   ]
  },
  {
   "cell_type": "code",
   "execution_count": 19,
   "id": "b0c7095b",
   "metadata": {},
   "outputs": [],
   "source": [
    "sammy = Dog(24,'sam','Huskey')"
   ]
  },
  {
   "cell_type": "code",
   "execution_count": 20,
   "id": "b9f969be",
   "metadata": {},
   "outputs": [
    {
     "data": {
      "text/plain": [
       "Dog(age=24, name='sam', breed='Huskey')"
      ]
     },
     "execution_count": 20,
     "metadata": {},
     "output_type": "execute_result"
    }
   ],
   "source": [
    "sammy"
   ]
  },
  {
   "cell_type": "code",
   "execution_count": 21,
   "id": "57b45783",
   "metadata": {},
   "outputs": [
    {
     "data": {
      "text/plain": [
       "__main__.Dog"
      ]
     },
     "execution_count": 21,
     "metadata": {},
     "output_type": "execute_result"
    }
   ],
   "source": [
    "type(sammy)"
   ]
  },
  {
   "cell_type": "code",
   "execution_count": 22,
   "id": "84192c78",
   "metadata": {},
   "outputs": [
    {
     "data": {
      "text/plain": [
       "'sam'"
      ]
     },
     "execution_count": 22,
     "metadata": {},
     "output_type": "execute_result"
    }
   ],
   "source": [
    "sammy.name"
   ]
  },
  {
   "cell_type": "code",
   "execution_count": 23,
   "id": "abb69ab9",
   "metadata": {},
   "outputs": [
    {
     "data": {
      "text/plain": [
       "24"
      ]
     },
     "execution_count": 23,
     "metadata": {},
     "output_type": "execute_result"
    }
   ],
   "source": [
    "sammy.age"
   ]
  },
  {
   "cell_type": "code",
   "execution_count": 24,
   "id": "8c555238",
   "metadata": {},
   "outputs": [
    {
     "data": {
      "text/plain": [
       "'C:\\\\Users\\\\prady\\\\My Python Stuff'"
      ]
     },
     "execution_count": 24,
     "metadata": {},
     "output_type": "execute_result"
    }
   ],
   "source": [
    "pwd"
   ]
  },
  {
   "cell_type": "markdown",
   "id": "66ce40a6",
   "metadata": {},
   "source": [
    "## File Operations"
   ]
  },
  {
   "cell_type": "code",
   "execution_count": 26,
   "id": "3e7ed0e4",
   "metadata": {},
   "outputs": [],
   "source": [
    "f = open('practice.txt','w+')\n",
    "f.write(\"This is a my first test string\")\n",
    "f.close()"
   ]
  },
  {
   "cell_type": "code",
   "execution_count": 27,
   "id": "6ccaba42",
   "metadata": {},
   "outputs": [],
   "source": [
    "import os"
   ]
  },
  {
   "cell_type": "code",
   "execution_count": 28,
   "id": "e605b42b",
   "metadata": {},
   "outputs": [
    {
     "data": {
      "text/plain": [
       "'C:\\\\Users\\\\prady\\\\My Python Stuff'"
      ]
     },
     "execution_count": 28,
     "metadata": {},
     "output_type": "execute_result"
    }
   ],
   "source": [
    "os.getcwd()"
   ]
  },
  {
   "cell_type": "code",
   "execution_count": 30,
   "id": "4e5d6f30",
   "metadata": {},
   "outputs": [
    {
     "data": {
      "text/plain": [
       "['All Users', 'Default', 'Default User', 'desktop.ini', 'prady', 'Public']"
      ]
     },
     "execution_count": 30,
     "metadata": {},
     "output_type": "execute_result"
    }
   ],
   "source": [
    "os.listdir('C:\\\\Users')"
   ]
  },
  {
   "cell_type": "code",
   "execution_count": 31,
   "id": "2fc95e69",
   "metadata": {},
   "outputs": [],
   "source": [
    "import shutil"
   ]
  },
  {
   "cell_type": "code",
   "execution_count": null,
   "id": "2ce0de0d",
   "metadata": {},
   "outputs": [],
   "source": [
    "shutil.move()"
   ]
  }
 ],
 "metadata": {
  "kernelspec": {
   "display_name": "Python 3 (ipykernel)",
   "language": "python",
   "name": "python3"
  },
  "language_info": {
   "codemirror_mode": {
    "name": "ipython",
    "version": 3
   },
   "file_extension": ".py",
   "mimetype": "text/x-python",
   "name": "python",
   "nbconvert_exporter": "python",
   "pygments_lexer": "ipython3",
   "version": "3.9.13"
  }
 },
 "nbformat": 4,
 "nbformat_minor": 5
}
