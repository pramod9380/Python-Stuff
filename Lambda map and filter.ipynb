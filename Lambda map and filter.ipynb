{
 "cells": [
  {
   "cell_type": "code",
   "execution_count": 1,
   "id": "8153e4aa",
   "metadata": {},
   "outputs": [],
   "source": [
    "# Welcome to Lambda Expressions"
   ]
  },
  {
   "cell_type": "code",
   "execution_count": 3,
   "id": "67739861",
   "metadata": {},
   "outputs": [
    {
     "data": {
      "text/plain": [
       "25"
      ]
     },
     "execution_count": 3,
     "metadata": {},
     "output_type": "execute_result"
    }
   ],
   "source": [
    "# normal function to find the square of the number\n",
    "\n",
    "def square_of_number(number):\n",
    "    return number**2\n",
    "square_of_number(5)"
   ]
  },
  {
   "cell_type": "code",
   "execution_count": 6,
   "id": "c88d21b7",
   "metadata": {},
   "outputs": [
    {
     "data": {
      "text/plain": [
       "16"
      ]
     },
     "execution_count": 6,
     "metadata": {},
     "output_type": "execute_result"
    }
   ],
   "source": [
    "# Uisng Lambda Expressions\n",
    "\n",
    "square = lambda num : num**2\n",
    "square(4)"
   ]
  },
  {
   "cell_type": "code",
   "execution_count": 8,
   "id": "c0d8f814",
   "metadata": {},
   "outputs": [
    {
     "data": {
      "text/plain": [
       "[1, 4, 9, 16, 25, 36, 49]"
      ]
     },
     "execution_count": 8,
     "metadata": {},
     "output_type": "execute_result"
    }
   ],
   "source": [
    "# Using Map  \n",
    "\n",
    "mylist = [1,2,3,4,5,6,7]\n",
    "list(map(square_of_number,mylist))"
   ]
  },
  {
   "cell_type": "code",
   "execution_count": 9,
   "id": "1f747003",
   "metadata": {},
   "outputs": [
    {
     "data": {
      "text/plain": [
       "[1, 4, 9, 16, 25, 36, 49]"
      ]
     },
     "execution_count": 9,
     "metadata": {},
     "output_type": "execute_result"
    }
   ],
   "source": [
    "# Map with Lambda\n",
    "\n",
    "list(map(lambda num:num**2, mylist))"
   ]
  },
  {
   "cell_type": "code",
   "execution_count": 12,
   "id": "eafaf196",
   "metadata": {},
   "outputs": [
    {
     "data": {
      "text/plain": [
       "[2, 4, 6]"
      ]
     },
     "execution_count": 12,
     "metadata": {},
     "output_type": "execute_result"
    }
   ],
   "source": [
    "# Filter with normal functions\n",
    "\n",
    "def find_even(number):\n",
    "    if(number%2==0):\n",
    "        return number\n",
    "list(filter(find_even,mylist))"
   ]
  },
  {
   "cell_type": "code",
   "execution_count": 11,
   "id": "5a79c74a",
   "metadata": {},
   "outputs": [
    {
     "data": {
      "text/plain": [
       "[2, 4, 6]"
      ]
     },
     "execution_count": 11,
     "metadata": {},
     "output_type": "execute_result"
    }
   ],
   "source": [
    "# Filter with lambda expressions\n",
    "\n",
    "list(filter(lambda num: num%2==0, mylist))"
   ]
  },
  {
   "cell_type": "markdown",
   "id": "68bba6a0",
   "metadata": {},
   "source": [
    "## Global and Local variables"
   ]
  },
  {
   "cell_type": "code",
   "execution_count": 14,
   "id": "f0da0c3f",
   "metadata": {},
   "outputs": [
    {
     "name": "stdout",
     "output_type": "stream",
     "text": [
      "This is Global Variable\n",
      "This is Local Variable\n"
     ]
    }
   ],
   "source": [
    "x = 'This is Global Variable'\n",
    "\n",
    "def func():\n",
    "    x = 'This is Local Variable'\n",
    "    print(x)\n",
    "\n",
    "print(x)\n",
    "func()"
   ]
  },
  {
   "cell_type": "code",
   "execution_count": 49,
   "id": "08293ecd",
   "metadata": {},
   "outputs": [
    {
     "name": "stdout",
     "output_type": "stream",
     "text": [
      "Before the function call : This is Global Variable\n",
      "During the function call : This is Local Variable\n",
      "After the fucntion call : This is Local Variable\n"
     ]
    }
   ],
   "source": [
    "# How to access Global variable inside the function \n",
    "\n",
    "x = 'This is Global Variable'\n",
    "\n",
    "def func():\n",
    "    global x\n",
    "    x = 'This is Local Variable'\n",
    "    print(\"During the function call : {}\".format(x))\n",
    "\n",
    "print(\"Before the function call : {}\".format(x))\n",
    "func()\n",
    "print(\"After the fucntion call : {}\".format(x))\n"
   ]
  },
  {
   "cell_type": "code",
   "execution_count": 50,
   "id": "70d4289d",
   "metadata": {},
   "outputs": [],
   "source": [
    "def myfunc(letter):\n",
    "    letters = {'A':['00100','01010','11111','10001','10001'],\n",
    "                'P':['11111','10001','11111','10000','10000'],\n",
    "               'R': ['11111','10001','11111','10001','10001']\n",
    "              }\n",
    "    letter = letter.upper()\n",
    "    if letter in letters:\n",
    "        lines = letters[letter]\n",
    "        for line in lines:\n",
    "            print(line.replace('0',' ').replace('1','*'))\n",
    "    else:\n",
    "        print(\"letter is not found\")\n",
    "        "
   ]
  },
  {
   "cell_type": "code",
   "execution_count": 51,
   "id": "7472f5f1",
   "metadata": {},
   "outputs": [
    {
     "name": "stdout",
     "output_type": "stream",
     "text": [
      "*****\n",
      "*   *\n",
      "*****\n",
      "*    \n",
      "*    \n",
      "*****\n",
      "*   *\n",
      "*****\n",
      "*   *\n",
      "*   *\n",
      "  *  \n",
      " * * \n",
      "*****\n",
      "*   *\n",
      "*   *\n"
     ]
    }
   ],
   "source": [
    "myfunc('p')\n",
    "myfunc('r')\n",
    "myfunc('a')"
   ]
  },
  {
   "cell_type": "code",
   "execution_count": null,
   "id": "3d52680a",
   "metadata": {},
   "outputs": [],
   "source": []
  }
 ],
 "metadata": {
  "kernelspec": {
   "display_name": "Python 3 (ipykernel)",
   "language": "python",
   "name": "python3"
  },
  "language_info": {
   "codemirror_mode": {
    "name": "ipython",
    "version": 3
   },
   "file_extension": ".py",
   "mimetype": "text/x-python",
   "name": "python",
   "nbconvert_exporter": "python",
   "pygments_lexer": "ipython3",
   "version": "3.9.13"
  }
 },
 "nbformat": 4,
 "nbformat_minor": 5
}
