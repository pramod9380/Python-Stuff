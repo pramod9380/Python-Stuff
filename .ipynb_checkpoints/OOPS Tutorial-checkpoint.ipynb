{
 "cells": [
  {
   "cell_type": "code",
   "execution_count": 1,
   "id": "b78a22e8",
   "metadata": {},
   "outputs": [],
   "source": [
    "# Welcome to oops in python"
   ]
  },
  {
   "cell_type": "code",
   "execution_count": 2,
   "id": "ae6795d8",
   "metadata": {},
   "outputs": [],
   "source": [
    "'''\n",
    "    class:\n",
    "        classes are like a blue-prints\n",
    "        \n",
    "    syntax:\n",
    "        \n",
    "        class Name_of_the_class():\n",
    "            # do_something\n",
    "'''\n",
    "\n",
    "# Example\n",
    "\n",
    "class Human():\n",
    "    pass\n"
   ]
  },
  {
   "cell_type": "code",
   "execution_count": 3,
   "id": "cf1b3adb",
   "metadata": {},
   "outputs": [
    {
     "data": {
      "text/plain": [
       "__main__.Human"
      ]
     },
     "execution_count": 3,
     "metadata": {},
     "output_type": "execute_result"
    }
   ],
   "source": [
    "# How to create a object of a class\n",
    "\n",
    "human = Human()\n",
    "\n",
    "type(human)"
   ]
  },
  {
   "cell_type": "code",
   "execution_count": 7,
   "id": "ba732d35",
   "metadata": {},
   "outputs": [
    {
     "data": {
      "text/plain": [
       "21"
      ]
     },
     "execution_count": 7,
     "metadata": {},
     "output_type": "execute_result"
    }
   ],
   "source": [
    "'''\n",
    "    constructor syntax:\n",
    "        ==> This will invoke whennever the class is get called\n",
    "        \n",
    "        def __init__(self, param1,param2):\n",
    "            self.param1 = param1\n",
    "            self.param2 = param2\n",
    "'''\n",
    "\n",
    "# Example\n",
    "\n",
    "class Human():\n",
    "    \n",
    "    # constructor\n",
    "    def __init__(self, name, age, gender):\n",
    "        \n",
    "        # assigning attribute to provided value  \n",
    "        self.name = name\n",
    "        self.age = age\n",
    "        self.gender = gender\n",
    "\n",
    "# Creating an object for an class\n",
    "\n",
    "human = Human('pratik',21,'male')\n",
    "\n",
    "# calling the attributes\n",
    "human.age"
   ]
  },
  {
   "cell_type": "code",
   "execution_count": 8,
   "id": "90c49223",
   "metadata": {},
   "outputs": [
    {
     "data": {
      "text/plain": [
       "'pratik'"
      ]
     },
     "execution_count": 8,
     "metadata": {},
     "output_type": "execute_result"
    }
   ],
   "source": [
    "human.name"
   ]
  },
  {
   "cell_type": "code",
   "execution_count": 9,
   "id": "67f663e7",
   "metadata": {},
   "outputs": [
    {
     "name": "stdout",
     "output_type": "stream",
     "text": [
      "The name of the animal is dog and it stays in Bangalore and it is 21 years old which has red color\n"
     ]
    }
   ],
   "source": [
    "# Class with methods\n",
    "\n",
    "class Animal():\n",
    "    \n",
    "    # default variable or attribute name \n",
    "    name = 'dog'\n",
    "    \n",
    "    # constructor\n",
    "    def __init__(self, age, location):\n",
    "        self.age = age\n",
    "        self.location = location\n",
    "        \n",
    "    # Methods or Functions\n",
    "    # When you declare inside it is called Methods\n",
    "    # When you declare outside it is called Functions\n",
    "    \n",
    "    def myfunc(self,color):\n",
    "        print(\"The name of the animal is {} and it stays in {} and it is {} years old which has {} color\".format(self.name, self.location, self.age, color))\n",
    "\n",
    "# Creating an object for Animal \n",
    "animal = Animal(21,'Bangalore')\n",
    "\n",
    "# printing the default varibale name \n",
    "animal.name\n",
    "\n",
    "# printing the declared variable name\n",
    "animal.location\n",
    "\n",
    "# calling the method with params\n",
    "animal.myfunc('red')"
   ]
  },
  {
   "cell_type": "code",
   "execution_count": 30,
   "id": "ffe724c3",
   "metadata": {},
   "outputs": [],
   "source": [
    "class Circle():\n",
    "    \n",
    "    # attribute\n",
    "    pi = 3.14\n",
    "    \n",
    "    def __init__(self, radius):\n",
    "        self.radius = radius\n",
    "    \n",
    "    # Methods \n",
    "    def get_area(self):\n",
    "        return self.pi*(self.radius**2)\n",
    "    \n",
    "    def get_circumference(self):\n",
    "        return Circle.pi * self.radius * 2`\n",
    "    "
   ]
  },
  {
   "cell_type": "code",
   "execution_count": 31,
   "id": "c854e447",
   "metadata": {},
   "outputs": [],
   "source": [
    "my_circle = Circle(3)"
   ]
  },
  {
   "cell_type": "code",
   "execution_count": 32,
   "id": "546e18cd",
   "metadata": {},
   "outputs": [
    {
     "name": "stdout",
     "output_type": "stream",
     "text": [
      "28.26\n"
     ]
    }
   ],
   "source": [
    "print(my_circle.get_area())"
   ]
  },
  {
   "cell_type": "code",
   "execution_count": 33,
   "id": "335a920c",
   "metadata": {},
   "outputs": [
    {
     "name": "stdout",
     "output_type": "stream",
     "text": [
      "18.84\n"
     ]
    }
   ],
   "source": [
    "print(my_circle.get_circumference())"
   ]
  },
  {
   "cell_type": "markdown",
   "id": "d1370dcb",
   "metadata": {},
   "source": [
    "## Inheritance"
   ]
  },
  {
   "cell_type": "code",
   "execution_count": 56,
   "id": "3e858a99",
   "metadata": {},
   "outputs": [],
   "source": [
    "'''\n",
    "    1. code reusability\n",
    "    2. parent properties applicable to child by default\n",
    "'''\n",
    "\n",
    "class Animal():\n",
    "    \n",
    "    name = \"cat\"\n",
    "    \n",
    "    def __init__(self):\n",
    "        print(\"I'm from Animal class constr\")\n",
    "        \n",
    "    def print_name(self):\n",
    "        print(\"I'm from Animal method\")\n",
    "        \n",
    "class Dog(Animal):\n",
    "     \n",
    "    name = 'dog'\n",
    "    \n",
    "    def __init__(self):\n",
    "        # Inheritance \n",
    "        Animal.__init__(self)\n",
    "        print(\"I'm from Dog class constr\")\n",
    "        \n",
    "    #Method overiding   \n",
    "    def print_name(self):\n",
    "        print(\"I'm from Dog Method\")\n"
   ]
  },
  {
   "cell_type": "code",
   "execution_count": 57,
   "id": "ca16711d",
   "metadata": {},
   "outputs": [
    {
     "name": "stdout",
     "output_type": "stream",
     "text": [
      "I'm from Animal class constr\n",
      "I'm from Dog class constr\n"
     ]
    }
   ],
   "source": [
    "dog = Dog()"
   ]
  },
  {
   "cell_type": "code",
   "execution_count": 58,
   "id": "1d7c238f",
   "metadata": {},
   "outputs": [
    {
     "name": "stdout",
     "output_type": "stream",
     "text": [
      "I'm from Dog Method\n"
     ]
    }
   ],
   "source": [
    "dog.print_name()"
   ]
  },
  {
   "cell_type": "code",
   "execution_count": 3,
   "id": "bc52737c",
   "metadata": {},
   "outputs": [],
   "source": [
    "# Magic methods  in python\n",
    "\n",
    "class Book():\n",
    "    \n",
    "    def __init__(self, name, author):\n",
    "        self.name = name\n",
    "        self.author = author\n",
    "        \n",
    "    def __str__(self):\n",
    "        return \"The Book {} is writen by {}\".format(self.name, self.author)\n",
    "    \n",
    "    def __len__(self):\n",
    "        return 200"
   ]
  },
  {
   "cell_type": "code",
   "execution_count": 4,
   "id": "8b311299",
   "metadata": {},
   "outputs": [],
   "source": [
    "book = Book('Shiva Trialogy', 'Amish')"
   ]
  },
  {
   "cell_type": "code",
   "execution_count": 5,
   "id": "dcf672d8",
   "metadata": {},
   "outputs": [
    {
     "name": "stdout",
     "output_type": "stream",
     "text": [
      "The Book Shiva Trialogy is writen by Amish\n"
     ]
    }
   ],
   "source": [
    "print(book)"
   ]
  },
  {
   "cell_type": "code",
   "execution_count": 6,
   "id": "58197398",
   "metadata": {},
   "outputs": [
    {
     "data": {
      "text/plain": [
       "200"
      ]
     },
     "execution_count": 6,
     "metadata": {},
     "output_type": "execute_result"
    }
   ],
   "source": [
    "len(book)"
   ]
  },
  {
   "cell_type": "code",
   "execution_count": 11,
   "id": "1241317c",
   "metadata": {},
   "outputs": [
    {
     "name": "stdout",
     "output_type": "stream",
     "text": [
      "None\n"
     ]
    }
   ],
   "source": [
    "print(Book.__doc__)"
   ]
  },
  {
   "cell_type": "code",
   "execution_count": 15,
   "id": "1ff2a123",
   "metadata": {},
   "outputs": [
    {
     "ename": "AttributeError",
     "evalue": "'Book' object has no attribute '__bases__'",
     "output_type": "error",
     "traceback": [
      "\u001b[1;31m---------------------------------------------------------------------------\u001b[0m",
      "\u001b[1;31mAttributeError\u001b[0m                            Traceback (most recent call last)",
      "\u001b[1;32m~\\AppData\\Local\\Temp\\ipykernel_8624\\1147572220.py\u001b[0m in \u001b[0;36m<module>\u001b[1;34m\u001b[0m\n\u001b[1;32m----> 1\u001b[1;33m \u001b[0mprint\u001b[0m\u001b[1;33m(\u001b[0m\u001b[0mbook\u001b[0m\u001b[1;33m.\u001b[0m\u001b[0m__bases__\u001b[0m\u001b[1;33m)\u001b[0m\u001b[1;33m\u001b[0m\u001b[1;33m\u001b[0m\u001b[0m\n\u001b[0m",
      "\u001b[1;31mAttributeError\u001b[0m: 'Book' object has no attribute '__bases__'"
     ]
    }
   ],
   "source": [
    "print(book.__bases__)"
   ]
  },
  {
   "cell_type": "code",
   "execution_count": 17,
   "id": "9bd6e46a",
   "metadata": {},
   "outputs": [],
   "source": [
    "## Abstraction in Python\n",
    "\n",
    "'''\n",
    "    Abstraction : hieghliting the details which are neccessary by hiding unneccesarry details\n",
    "    \n",
    "    syntax :\n",
    "        import abc from <give_name_which_is_convient_to_you>\n",
    "        class <class_name>(given_name):\n",
    "            define abstarct_method:\n",
    "'''\n",
    "\n",
    "from abc import ABC\n",
    "class Animal(ABC):\n",
    "\n",
    "    # Abstract method\n",
    "    def speak(self):\n",
    "        pass\n"
   ]
  },
  {
   "cell_type": "code",
   "execution_count": 18,
   "id": "341b3041",
   "metadata": {},
   "outputs": [],
   "source": [
    "class Dog(Animal):\n",
    "    \n",
    "    # Implementation of abstract method\n",
    "    def speak(self):\n",
    "        print(\"Bhau Bhau!!\")"
   ]
  },
  {
   "cell_type": "code",
   "execution_count": 19,
   "id": "a4941d20",
   "metadata": {},
   "outputs": [],
   "source": [
    "animal = Animal()"
   ]
  },
  {
   "cell_type": "code",
   "execution_count": 21,
   "id": "7b11e327",
   "metadata": {},
   "outputs": [],
   "source": [
    "animal.speak()"
   ]
  },
  {
   "cell_type": "code",
   "execution_count": null,
   "id": "cf32b660",
   "metadata": {},
   "outputs": [],
   "source": []
  }
 ],
 "metadata": {
  "kernelspec": {
   "display_name": "Python 3 (ipykernel)",
   "language": "python",
   "name": "python3"
  },
  "language_info": {
   "codemirror_mode": {
    "name": "ipython",
    "version": 3
   },
   "file_extension": ".py",
   "mimetype": "text/x-python",
   "name": "python",
   "nbconvert_exporter": "python",
   "pygments_lexer": "ipython3",
   "version": "3.9.13"
  }
 },
 "nbformat": 4,
 "nbformat_minor": 5
}
