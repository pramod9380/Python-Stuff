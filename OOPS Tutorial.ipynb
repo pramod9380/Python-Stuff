{
 "cells": [
  {
   "cell_type": "code",
   "execution_count": 1,
   "id": "b78a22e8",
   "metadata": {},
   "outputs": [],
   "source": [
    "# Welcome to oops in python"
   ]
  },
  {
   "cell_type": "code",
   "execution_count": 2,
   "id": "ae6795d8",
   "metadata": {},
   "outputs": [],
   "source": [
    "'''\n",
    "    class:\n",
    "        classes are like a blue-prints\n",
    "        \n",
    "    syntax:\n",
    "        \n",
    "        class Name_of_the_class():\n",
    "            # do_something\n",
    "'''\n",
    "\n",
    "# Example\n",
    "\n",
    "class Human():\n",
    "    pass\n"
   ]
  },
  {
   "cell_type": "code",
   "execution_count": 3,
   "id": "cf1b3adb",
   "metadata": {},
   "outputs": [
    {
     "data": {
      "text/plain": [
       "__main__.Human"
      ]
     },
     "execution_count": 3,
     "metadata": {},
     "output_type": "execute_result"
    }
   ],
   "source": [
    "# How to create a object of a class\n",
    "\n",
    "human = Human()\n",
    "\n",
    "type(human)"
   ]
  },
  {
   "cell_type": "code",
   "execution_count": 7,
   "id": "ba732d35",
   "metadata": {},
   "outputs": [
    {
     "data": {
      "text/plain": [
       "21"
      ]
     },
     "execution_count": 7,
     "metadata": {},
     "output_type": "execute_result"
    }
   ],
   "source": [
    "'''\n",
    "    constructor syntax:\n",
    "        ==> This will invoke whennever the class is get called\n",
    "        \n",
    "        def __init__(self, param1,param2):\n",
    "            self.param1 = param1\n",
    "            self.param2 = param2\n",
    "'''\n",
    "\n",
    "# Example\n",
    "\n",
    "class Human():\n",
    "    \n",
    "    # constructor\n",
    "    def __init__(self, name, age, gender):\n",
    "        \n",
    "        # assigning attribute to provided value  \n",
    "        self.name = name\n",
    "        self.age = age\n",
    "        self.gender = gender\n",
    "\n",
    "# Creating an object for an class\n",
    "\n",
    "human = Human('pratik',21,'male')\n",
    "\n",
    "# calling the attributes\n",
    "human.age"
   ]
  },
  {
   "cell_type": "code",
   "execution_count": 8,
   "id": "90c49223",
   "metadata": {},
   "outputs": [
    {
     "data": {
      "text/plain": [
       "'pratik'"
      ]
     },
     "execution_count": 8,
     "metadata": {},
     "output_type": "execute_result"
    }
   ],
   "source": [
    "human.name"
   ]
  },
  {
   "cell_type": "code",
   "execution_count": 9,
   "id": "67f663e7",
   "metadata": {},
   "outputs": [
    {
     "name": "stdout",
     "output_type": "stream",
     "text": [
      "The name of the animal is dog and it stays in Bangalore and it is 21 years old which has red color\n"
     ]
    }
   ],
   "source": [
    "# Class with methods\n",
    "\n",
    "class Animal():\n",
    "    \n",
    "    # default variable or attribute name \n",
    "    name = 'dog'\n",
    "    \n",
    "    # constructor\n",
    "    def __init__(self, age, location):\n",
    "        self.age = age\n",
    "        self.location = location\n",
    "        \n",
    "    # Methods or Functions\n",
    "    # When you declare inside it is called Methods\n",
    "    # When you declare outside it is called Functions\n",
    "    \n",
    "    def myfunc(self,color):\n",
    "        print(\"The name of the animal is {} and it stays in {} and it is {} years old which has {} color\".format(self.name, self.location, self.age, color))\n",
    "\n",
    "# Creating an object for Animal \n",
    "animal = Animal(21,'Bangalore')\n",
    "\n",
    "# printing the default varibale name \n",
    "animal.name\n",
    "\n",
    "# printing the declared variable name\n",
    "animal.location\n",
    "\n",
    "# calling the method with params\n",
    "animal.myfunc('red')"
   ]
  },
  {
   "cell_type": "code",
   "execution_count": 30,
   "id": "ffe724c3",
   "metadata": {},
   "outputs": [],
   "source": [
    "class Circle():\n",
    "    \n",
    "    # attribute\n",
    "    pi = 3.14\n",
    "    \n",
    "    def __init__(self, radius):\n",
    "        self.radius = radius\n",
    "    \n",
    "    # Methods \n",
    "    def get_area(self):\n",
    "        return self.pi*(self.radius**2)\n",
    "    \n",
    "    def get_circumference(self):\n",
    "        return Circle.pi * self.radius * 2`\n",
    "    "
   ]
  },
  {
   "cell_type": "code",
   "execution_count": 31,
   "id": "c854e447",
   "metadata": {},
   "outputs": [],
   "source": [
    "my_circle = Circle(3)"
   ]
  },
  {
   "cell_type": "code",
   "execution_count": 32,
   "id": "546e18cd",
   "metadata": {},
   "outputs": [
    {
     "name": "stdout",
     "output_type": "stream",
     "text": [
      "28.26\n"
     ]
    }
   ],
   "source": [
    "print(my_circle.get_area())"
   ]
  },
  {
   "cell_type": "code",
   "execution_count": 33,
   "id": "335a920c",
   "metadata": {},
   "outputs": [
    {
     "name": "stdout",
     "output_type": "stream",
     "text": [
      "18.84\n"
     ]
    }
   ],
   "source": [
    "print(my_circle.get_circumference())"
   ]
  },
  {
   "cell_type": "markdown",
   "id": "d1370dcb",
   "metadata": {},
   "source": [
    "## Inheritance"
   ]
  },
  {
   "cell_type": "code",
   "execution_count": 56,
   "id": "3e858a99",
   "metadata": {},
   "outputs": [],
   "source": [
    "'''\n",
    "    1. code reusability\n",
    "    2. parent properties applicable to child by default\n",
    "'''\n",
    "\n",
    "class Animal():\n",
    "    \n",
    "    name = \"cat\"\n",
    "    \n",
    "    def __init__(self):\n",
    "        print(\"I'm from Animal class constr\")\n",
    "        \n",
    "    def print_name(self):\n",
    "        print(\"I'm from Animal method\")\n",
    "        \n",
    "class Dog(Animal):\n",
    "     \n",
    "    name = 'dog'\n",
    "    \n",
    "    def __init__(self):\n",
    "        # Inheritance \n",
    "        Animal.__init__(self)\n",
    "        print(\"I'm from Dog class constr\")\n",
    "        \n",
    "    #Method overiding   \n",
    "    def print_name(self):\n",
    "        print(\"I'm from Dog Method\")\n"
   ]
  },
  {
   "cell_type": "code",
   "execution_count": 57,
   "id": "ca16711d",
   "metadata": {},
   "outputs": [
    {
     "name": "stdout",
     "output_type": "stream",
     "text": [
      "I'm from Animal class constr\n",
      "I'm from Dog class constr\n"
     ]
    }
   ],
   "source": [
    "dog = Dog()"
   ]
  },
  {
   "cell_type": "code",
   "execution_count": 58,
   "id": "1d7c238f",
   "metadata": {},
   "outputs": [
    {
     "name": "stdout",
     "output_type": "stream",
     "text": [
      "I'm from Dog Method\n"
     ]
    }
   ],
   "source": [
    "dog.print_name()"
   ]
  },
  {
   "cell_type": "code",
   "execution_count": 3,
   "id": "bc52737c",
   "metadata": {},
   "outputs": [],
   "source": [
    "# Magic methods  in python\n",
    "\n",
    "class Book():\n",
    "    \n",
    "    def __init__(self, name, author):\n",
    "        self.name = name\n",
    "        self.author = author\n",
    "        \n",
    "    def __str__(self):\n",
    "        return \"The Book {} is writen by {}\".format(self.name, self.author)\n",
    "    \n",
    "    def __len__(self):\n",
    "        return 200"
   ]
  },
  {
   "cell_type": "code",
   "execution_count": 4,
   "id": "8b311299",
   "metadata": {},
   "outputs": [],
   "source": [
    "book = Book('Shiva Trialogy', 'Amish')"
   ]
  },
  {
   "cell_type": "code",
   "execution_count": 5,
   "id": "dcf672d8",
   "metadata": {},
   "outputs": [
    {
     "name": "stdout",
     "output_type": "stream",
     "text": [
      "The Book Shiva Trialogy is writen by Amish\n"
     ]
    }
   ],
   "source": [
    "print(book)"
   ]
  },
  {
   "cell_type": "code",
   "execution_count": 6,
   "id": "58197398",
   "metadata": {},
   "outputs": [
    {
     "data": {
      "text/plain": [
       "200"
      ]
     },
     "execution_count": 6,
     "metadata": {},
     "output_type": "execute_result"
    }
   ],
   "source": [
    "len(book)"
   ]
  },
  {
   "cell_type": "code",
   "execution_count": 11,
   "id": "1241317c",
   "metadata": {},
   "outputs": [
    {
     "name": "stdout",
     "output_type": "stream",
     "text": [
      "None\n"
     ]
    }
   ],
   "source": [
    "print(Book.__doc__)"
   ]
  },
  {
   "cell_type": "code",
   "execution_count": 15,
   "id": "3b199a4a",
   "metadata": {},
   "outputs": [
    {
     "ename": "AttributeError",
     "evalue": "'Book' object has no attribute '__bases__'",
     "output_type": "error",
     "traceback": [
      "\u001b[1;31m---------------------------------------------------------------------------\u001b[0m",
      "\u001b[1;31mAttributeError\u001b[0m                            Traceback (most recent call last)",
      "\u001b[1;32m~\\AppData\\Local\\Temp\\ipykernel_8624\\1147572220.py\u001b[0m in \u001b[0;36m<module>\u001b[1;34m\u001b[0m\n\u001b[1;32m----> 1\u001b[1;33m \u001b[0mprint\u001b[0m\u001b[1;33m(\u001b[0m\u001b[0mbook\u001b[0m\u001b[1;33m.\u001b[0m\u001b[0m__bases__\u001b[0m\u001b[1;33m)\u001b[0m\u001b[1;33m\u001b[0m\u001b[1;33m\u001b[0m\u001b[0m\n\u001b[0m",
      "\u001b[1;31mAttributeError\u001b[0m: 'Book' object has no attribute '__bases__'"
     ]
    }
   ],
   "source": [
    "print(book.__bases__)"
   ]
  },
  {
   "cell_type": "code",
   "execution_count": 23,
   "id": "45847101",
   "metadata": {},
   "outputs": [],
   "source": [
    "## Abstraction in Python\n",
    "\n",
    "'''\n",
    "    Abstraction : hieghliting the details which are neccessary by hiding unneccesarry details\n",
    "    \n",
    "    syntax :\n",
    "        import abc from <give_name_which_is_convient_to_you>\n",
    "        class <class_name>(given_name):\n",
    "            define abstarct_method:\n",
    "'''\n",
    "\n",
    "from abc import ABC, abstractclassmethod\n",
    "class Animal(ABC):\n",
    "\n",
    "    # Abstract method\n",
    "    @abstractclassmethod\n",
    "    def speak(self):\n",
    "        pass\n"
   ]
  },
  {
   "cell_type": "code",
   "execution_count": 24,
   "id": "d7802b8d",
   "metadata": {},
   "outputs": [],
   "source": [
    "class Dog(Animal):\n",
    "    \n",
    "    # Implementation of abstract method\n",
    "    def speak(self):\n",
    "        print(\"Bhau Bhau!!\")"
   ]
  },
  {
   "cell_type": "code",
   "execution_count": 25,
   "id": "02212369",
   "metadata": {},
   "outputs": [
    {
     "ename": "TypeError",
     "evalue": "Can't instantiate abstract class Animal with abstract method speak",
     "output_type": "error",
     "traceback": [
      "\u001b[1;31m---------------------------------------------------------------------------\u001b[0m",
      "\u001b[1;31mTypeError\u001b[0m                                 Traceback (most recent call last)",
      "\u001b[1;32m~\\AppData\\Local\\Temp\\ipykernel_23288\\191684995.py\u001b[0m in \u001b[0;36m<module>\u001b[1;34m\u001b[0m\n\u001b[1;32m----> 1\u001b[1;33m \u001b[0manimal\u001b[0m \u001b[1;33m=\u001b[0m \u001b[0mAnimal\u001b[0m\u001b[1;33m(\u001b[0m\u001b[1;33m)\u001b[0m\u001b[1;33m\u001b[0m\u001b[1;33m\u001b[0m\u001b[0m\n\u001b[0m",
      "\u001b[1;31mTypeError\u001b[0m: Can't instantiate abstract class Animal with abstract method speak"
     ]
    }
   ],
   "source": [
    "animal = Animal()"
   ]
  },
  {
   "cell_type": "code",
   "execution_count": 21,
   "id": "4654ebca",
   "metadata": {},
   "outputs": [],
   "source": [
    "animal.speak()"
   ]
  },
  {
   "cell_type": "code",
   "execution_count": 22,
   "id": "27a8a63a",
   "metadata": {},
   "outputs": [],
   "source": [
    "dog = Dog()"
   ]
  },
  {
   "cell_type": "code",
   "execution_count": 23,
   "id": "c5f38c99",
   "metadata": {},
   "outputs": [
    {
     "name": "stdout",
     "output_type": "stream",
     "text": [
      "Bhau Bhau!!\n"
     ]
    }
   ],
   "source": [
    "dog.speak()"
   ]
  },
  {
   "cell_type": "code",
   "execution_count": 27,
   "id": "d52c05f4",
   "metadata": {},
   "outputs": [
    {
     "ename": "NameError",
     "evalue": "name '_Employee__count' is not defined",
     "output_type": "error",
     "traceback": [
      "\u001b[1;31m---------------------------------------------------------------------------\u001b[0m",
      "\u001b[1;31mNameError\u001b[0m                                 Traceback (most recent call last)",
      "\u001b[1;32m~\\AppData\\Local\\Temp\\ipykernel_8624\\3546398913.py\u001b[0m in \u001b[0;36m<module>\u001b[1;34m\u001b[0m\n\u001b[0;32m     13\u001b[0m \u001b[0memployee\u001b[0m \u001b[1;33m=\u001b[0m \u001b[0mEmployee\u001b[0m\u001b[1;33m(\u001b[0m\u001b[1;33m)\u001b[0m\u001b[1;33m\u001b[0m\u001b[1;33m\u001b[0m\u001b[0m\n\u001b[0;32m     14\u001b[0m \u001b[1;31m# print(employee.__count)\u001b[0m\u001b[1;33m\u001b[0m\u001b[1;33m\u001b[0m\u001b[0m\n\u001b[1;32m---> 15\u001b[1;33m \u001b[0mprint\u001b[0m\u001b[1;33m(\u001b[0m\u001b[0memployee\u001b[0m\u001b[1;33m.\u001b[0m\u001b[0mdispay\u001b[0m\u001b[1;33m(\u001b[0m\u001b[1;33m)\u001b[0m\u001b[1;33m)\u001b[0m\u001b[1;33m\u001b[0m\u001b[1;33m\u001b[0m\u001b[0m\n\u001b[0m",
      "\u001b[1;32m~\\AppData\\Local\\Temp\\ipykernel_8624\\3546398913.py\u001b[0m in \u001b[0;36mdispay\u001b[1;34m(self)\u001b[0m\n\u001b[0;32m      9\u001b[0m \u001b[1;33m\u001b[0m\u001b[0m\n\u001b[0;32m     10\u001b[0m     \u001b[1;32mdef\u001b[0m \u001b[0mdispay\u001b[0m\u001b[1;33m(\u001b[0m\u001b[0mself\u001b[0m\u001b[1;33m)\u001b[0m\u001b[1;33m:\u001b[0m\u001b[1;33m\u001b[0m\u001b[1;33m\u001b[0m\u001b[0m\n\u001b[1;32m---> 11\u001b[1;33m         \u001b[0mprint\u001b[0m\u001b[1;33m(\u001b[0m\u001b[1;34m\"The no of employee is {}\"\u001b[0m\u001b[1;33m.\u001b[0m\u001b[0mformat\u001b[0m\u001b[1;33m(\u001b[0m\u001b[0m__count\u001b[0m\u001b[1;33m)\u001b[0m\u001b[1;33m)\u001b[0m\u001b[1;33m\u001b[0m\u001b[1;33m\u001b[0m\u001b[0m\n\u001b[0m\u001b[0;32m     12\u001b[0m \u001b[1;33m\u001b[0m\u001b[0m\n\u001b[0;32m     13\u001b[0m \u001b[0memployee\u001b[0m \u001b[1;33m=\u001b[0m \u001b[0mEmployee\u001b[0m\u001b[1;33m(\u001b[0m\u001b[1;33m)\u001b[0m\u001b[1;33m\u001b[0m\u001b[1;33m\u001b[0m\u001b[0m\n",
      "\u001b[1;31mNameError\u001b[0m: name '_Employee__count' is not defined"
     ]
    }
   ],
   "source": [
    "# Data hiding\n",
    "\n",
    "class Employee():\n",
    "    \n",
    "    # Abstract attribute\n",
    "    __count = 0\n",
    "    \n",
    "    def __init__(self):\n",
    "        Employee.__count += 1\n",
    "        \n",
    "    def dispay(self):\n",
    "        print(\"The no of employee is {}\".format(__count))\n",
    "        \n",
    "employee = Employee()\n",
    "# print(employee.__count)\n",
    "print(employee.dispay())"
   ]
  },
  {
   "cell_type": "code",
   "execution_count": 28,
   "id": "283e30bc",
   "metadata": {},
   "outputs": [
    {
     "data": {
      "text/plain": [
       "'\\n    Web Development \\n    \\n    Django\\n    UI Technologies\\n    Django Rest Framework(DRF)\\n'"
      ]
     },
     "execution_count": 28,
     "metadata": {},
     "output_type": "execute_result"
    }
   ],
   "source": [
    "'''\n",
    "    1. OOPs\n",
    "    2. Exception Module\n",
    "    3. File Exception\n",
    "    4. serialization\n",
    "    5. Rgex and webscraping\n",
    "    6. MultiThreading\n",
    "    7. PDBC\n",
    "    8. Decorators\n",
    "    9. Genertors\n",
    "    10. Logging module\n",
    "    11. Assertions\n",
    "    12. Numphy\n",
    "    13. Pandas\n",
    "\n",
    "    Web Development \n",
    "    \n",
    "    Django\n",
    "    UI Technologies\n",
    "    Django Rest Framework(DRF)\n",
    "'''"
   ]
  },
  {
   "cell_type": "markdown",
   "id": "8f60ac5b",
   "metadata": {},
   "source": [
    "## OOPS:"
   ]
  },
  {
   "cell_type": "code",
   "execution_count": 32,
   "id": "d9115f11",
   "metadata": {},
   "outputs": [
    {
     "name": "stdout",
     "output_type": "stream",
     "text": [
      "Help on class Student in module __main__:\n",
      "\n",
      "class Student(builtins.object)\n",
      " |  Data descriptors defined here:\n",
      " |  \n",
      " |  __dict__\n",
      " |      dictionary for instance variables (if defined)\n",
      " |  \n",
      " |  __weakref__\n",
      " |      list of weak references to the object (if defined)\n",
      "\n"
     ]
    }
   ],
   "source": [
    "'''\n",
    "    POP --> Divided into multiple functions and we can call those functions based on requirement.\n",
    "        --> Old paradigm\n",
    "        --> Helpfull for small Projects\n",
    "        \n",
    "    OOP --> Realtime entities called objects\n",
    "'''\n",
    "\n",
    "'''\n",
    "    class  --> blueprint for an object\n",
    "    object --> physical exististance of an class\n",
    "    refernce variable -->\n",
    "'''\n",
    "\n",
    "class Student:\n",
    "    pass\n",
    "help(Student)"
   ]
  },
  {
   "cell_type": "code",
   "execution_count": 59,
   "id": "37d1bfec",
   "metadata": {},
   "outputs": [
    {
     "name": "stdout",
     "output_type": "stream",
     "text": [
      "pramod has 23 age and 10 rupees\n"
     ]
    },
    {
     "data": {
      "text/plain": [
       "'\\n    self is always pointing to current object \\n    --> It is similar to this keyword in java \\n    --> It is just a name not a keyword we can replace self with any other words happily\\n'"
      ]
     },
     "execution_count": 59,
     "metadata": {},
     "output_type": "execute_result"
    }
   ],
   "source": [
    "'''\n",
    "    Types of variables in OOPs\n",
    "    1. Instance (Object level) \n",
    "    2. Static (Class level)\n",
    "    3. Local (Method level)\n",
    "'''\n",
    "\n",
    "# Vaiables example\n",
    "\n",
    "class Varibale_Example:\n",
    "    \n",
    "    x = 10\n",
    "    \n",
    "    # constructor\n",
    "    '''\n",
    "        Here x and y are local variables which holds the reference value of name and age\n",
    "        name and age are instance variable\n",
    "        and x is a static variable\n",
    "    '''\n",
    "    def __init__(self, x, y):\n",
    "        self.name = x;\n",
    "        self.age = y\n",
    "        \n",
    "    def display(self):\n",
    "        print(\"{} has {} age and {} rupees\".format(self.name, self.age,Varibale_Example.x))\n",
    "\n",
    "example = Varibale_Example(\"pramod\", 23)\n",
    "example.display()\n",
    "\n",
    "'''\n",
    "    Three methods are allowed in Class\n",
    "    1. instance methods ( If a methods talks about a perticular object )\n",
    "    2. class methods ( uses only static variable inside a method and no instance varibales )\n",
    "    3. static methods ( Genral utility method no way related to object and satic variable )\n",
    "'''\n",
    "class Department:\n",
    "\n",
    "    def m1(self):\n",
    "        print(\"I'm from instance method\")\n",
    "    \n",
    "    @classmethod\n",
    "    def display(cls):\n",
    "        print(\"I'm from class methiod method\")\n",
    "    \n",
    "    @staticmethod\n",
    "    def m3():\n",
    "        print(\"I'm from static method\")\n",
    "        \n",
    "deparment = Department()\n",
    "deparment.m1()\n",
    "Department.display()\n",
    "Department.m3()\n",
    "\n",
    "# second Example\n",
    "\n",
    "class Student:\n",
    "    school_name = \"PK_SCHOOL\"\n",
    "    \n",
    "    def __init__(self, name):\n",
    "        self.name = name\n",
    "        \n",
    "    @classmethod\n",
    "    def getSchoolInfo(cls):\n",
    "        print(\"School name \", cls.school_name)\n",
    "        \n",
    "        \n",
    "    @staticmethod\n",
    "    def utility_method(a,b):\n",
    "        return a,b)\n",
    "        \n",
    "'''\n",
    "    self is always pointing to current object \n",
    "    --> It is similar to this keyword in java \n",
    "    --> It is just a name not a keyword we can replace self with any other words happily\n",
    "'''\n",
    "\n",
    "class Self_Postmatom:\n",
    "    \n",
    "    # constructor \n",
    "    \n",
    "    # Self --> It is a object reference points to current object  \n",
    "    #          PVM will take care of it implicit declaration \n",
    "                \n",
    "    def __init__(self):\n",
    "        print(\"constructor called with self\")\n",
    "        \n",
    "    def __init__(this):\n",
    "        print(\"constructor called without self\")\n"
   ]
  },
  {
   "cell_type": "code",
   "execution_count": 51,
   "id": "44137709",
   "metadata": {},
   "outputs": [],
   "source": [
    "class Employee:\n",
    "    \n",
    "    # constructor\n",
    "    def __init__(this):\n",
    "        print(\"The addr of self is \", id(this))              "
   ]
  },
  {
   "cell_type": "code",
   "execution_count": 52,
   "id": "1a6f2e24",
   "metadata": {},
   "outputs": [
    {
     "name": "stdout",
     "output_type": "stream",
     "text": [
      "The addr of self is  2723177526032\n"
     ]
    }
   ],
   "source": [
    "emp = Employee()"
   ]
  },
  {
   "cell_type": "code",
   "execution_count": 50,
   "id": "3a2be212",
   "metadata": {},
   "outputs": [
    {
     "data": {
      "text/plain": [
       "2723176618880"
      ]
     },
     "execution_count": 50,
     "metadata": {},
     "output_type": "execute_result"
    }
   ],
   "source": [
    "id(emp)"
   ]
  },
  {
   "cell_type": "code",
   "execution_count": 63,
   "id": "49822fdd",
   "metadata": {},
   "outputs": [
    {
     "name": "stdout",
     "output_type": "stream",
     "text": [
      "Enter the movie nameraja\n",
      "Enter the author nameshama\n",
      "Do you want to add another movie details to list?\n",
      "1.Yes\n",
      "2.No1\n",
      "Enter the movie nameaksn\n",
      "Enter the author nameaslmd\n",
      "Do you want to add another movie details to list?\n",
      "1.Yes\n",
      "2.No2\n"
     ]
    }
   ],
   "source": [
    "'''\n",
    "    Getter and Setters in Python\n",
    "    \n",
    "    Getter --> used to access the variable \n",
    "    setter --> used to set the data \n",
    "'''\n",
    "\n",
    "\n",
    "class Movie:\n",
    "    \n",
    "    # constructor assignment\n",
    "    def __init__(self, name, author):\n",
    "        self.name = name\n",
    "        self.author = author\n",
    "        \n",
    "    # setter assignment\n",
    "    def set_movie_name(self):\n",
    "        self.name = self.name\n",
    "        \n",
    "    def set_movie_author(self):\n",
    "        self.author = self.author\n",
    "        \n",
    "    \n",
    "    # used to get movie name    \n",
    "    def get_movie_name(self):\n",
    "        return self.name\n",
    "    \n",
    "    # used to get movie author\n",
    "    def get_movie_author(self):\n",
    "        return self.author\n",
    "\n",
    "movie_list = []\n",
    "while True:\n",
    "    movie_name =  input(\"Enter the movie name\")\n",
    "    movie_author = input(\"Enter the author name\")\n",
    "    movie = Movie(movie_name, movie_author)\n",
    "    num = int(input(\"Do you want to add another movie details to list?\\n1.Yes\\n2.No\"))\n",
    "    if(num==1):\n",
    "        continue\n",
    "    else:\n",
    "        break\n",
    "        \n",
    "for movie in movie_list:\n",
    "    print(\"Movie {} is written by {}\".format(movie.get_movie_name(),movie.get_movie_author()))"
   ]
  },
  {
   "cell_type": "code",
   "execution_count": 64,
   "id": "91bb24f4",
   "metadata": {},
   "outputs": [
    {
     "name": "stdout",
     "output_type": "stream",
     "text": [
      "Employee name is PRamod\n"
     ]
    }
   ],
   "source": [
    "# How to call one class method in another class\n",
    "\n",
    "class Employee:\n",
    "    \n",
    "    def __init__(self, name):\n",
    "        self.name = name\n",
    "    \n",
    "    def display(self):\n",
    "        print(\"Employee name is {}\".format(self.name))\n",
    "        \n",
    "class Manager:\n",
    "    \n",
    "    # startic method\n",
    "    def do_something(emp):\n",
    "        emp.display()\n",
    "        \n",
    "employee = Employee(\"PRamod\")\n",
    "Manager.do_something(employee)"
   ]
  },
  {
   "cell_type": "code",
   "execution_count": 4,
   "id": "281a1b40",
   "metadata": {},
   "outputs": [
    {
     "ename": "AttributeError",
     "evalue": "'Student' object has no attribute 'a'",
     "output_type": "error",
     "traceback": [
      "\u001b[1;31m---------------------------------------------------------------------------\u001b[0m",
      "\u001b[1;31mAttributeError\u001b[0m                            Traceback (most recent call last)",
      "\u001b[1;32m~\\AppData\\Local\\Temp\\ipykernel_23288\\2640665450.py\u001b[0m in \u001b[0;36m<module>\u001b[1;34m\u001b[0m\n\u001b[0;32m     15\u001b[0m \u001b[1;31m# after deletion of variable\u001b[0m\u001b[1;33m\u001b[0m\u001b[1;33m\u001b[0m\u001b[0m\n\u001b[0;32m     16\u001b[0m \u001b[0mstudent\u001b[0m\u001b[1;33m.\u001b[0m\u001b[0mm1\u001b[0m\u001b[1;33m(\u001b[0m\u001b[1;33m)\u001b[0m\u001b[1;33m\u001b[0m\u001b[1;33m\u001b[0m\u001b[0m\n\u001b[1;32m---> 17\u001b[1;33m \u001b[0mstudent\u001b[0m\u001b[1;33m.\u001b[0m\u001b[0ma\u001b[0m     \u001b[1;31m# It will throw AttributeError: 'Student' object has no attribute 'a'\u001b[0m\u001b[1;33m\u001b[0m\u001b[1;33m\u001b[0m\u001b[0m\n\u001b[0m",
      "\u001b[1;31mAttributeError\u001b[0m: 'Student' object has no attribute 'a'"
     ]
    }
   ],
   "source": [
    "'''\n",
    "    Instance variables deletion example\n",
    "'''\n",
    "\n",
    "class Student:\n",
    "    \n",
    "    def __init__(self, a):\n",
    "        self.a = a\n",
    "        \n",
    "    def m1(self):\n",
    "        del self.a\n",
    "        \n",
    "student = Student(\"Pramod\")\n",
    "student.a    # It will give what value you specified\n",
    "# after deletion of variable\n",
    "student.m1()\n",
    "student.a     # It will throw AttributeError: 'Student' object has no attribute 'a'\n"
   ]
  },
  {
   "cell_type": "code",
   "execution_count": 8,
   "id": "25d2e1f2",
   "metadata": {},
   "outputs": [
    {
     "name": "stdout",
     "output_type": "stream",
     "text": [
      "Before any modification and deletion CBG\n",
      "After modification CBH\n",
      "After deletion and modification None\n",
      "LPS\n"
     ]
    }
   ],
   "source": [
    "'''\n",
    "    static vairbale modification and deltion\n",
    "'''\n",
    "\n",
    "class Student:\n",
    "    \n",
    "    school_name = \"CBG\"\n",
    "    \n",
    "    def __init__(self):\n",
    "        Student.school_name = \"CBH\"\n",
    "        \n",
    "    def m1(self):\n",
    "        Student.college_name = 'LPS'\n",
    "        del Student.school_name\n",
    "        \n",
    "    @classmethod\n",
    "    def m2(cls):\n",
    "        print(cls.college_name)\n",
    "        del cls.college_name\n",
    "\n",
    "        \n",
    "print(\"Before any modification and deletion\" , Student.school_name)\n",
    "student = Student()\n",
    "print(\"After modification\",Student.school_name)\n",
    "print(\"After deletion and modification\", student.m1())\n",
    "Student.m2()\n",
    "\n"
   ]
  },
  {
   "cell_type": "code",
   "execution_count": 12,
   "id": "003713b8",
   "metadata": {},
   "outputs": [
    {
     "name": "stdout",
     "output_type": "stream",
     "text": [
      "Outer calss constructor\n",
      "Inner class constructor\n",
      "Iner class method\n"
     ]
    }
   ],
   "source": [
    "'''\n",
    "    Inner classes \n",
    "    \n",
    "    without existiing one type of object if there is no chance of exist another type of object\n",
    "    \n",
    "    E.g : Without existing car object there is no chance of existing engine object\n",
    "            Car  --> Outer class\n",
    "            engine --> Inner class\n",
    "            \n",
    "    Advantage:\n",
    "    \n",
    "    1. Increase Modularity\n",
    "    2. Increase Security\n",
    "'''\n",
    "\n",
    "class Car:\n",
    "    \n",
    "    def __init__(self):\n",
    "        print(\"Outer calss constructor\")\n",
    "        \n",
    "    # Inner class\n",
    "    class Engine:\n",
    "        def __init__(self):\n",
    "            print(\"Inner class constructor\")\n",
    "            \n",
    "        def m1(self):\n",
    "            print(\"Iner class method\")\n",
    "            \n",
    "car =  Car()\n",
    "engine = car.Engine()\n",
    "engine.m1()"
   ]
  },
  {
   "cell_type": "code",
   "execution_count": 14,
   "id": "39c277e9",
   "metadata": {},
   "outputs": [
    {
     "name": "stdout",
     "output_type": "stream",
     "text": [
      "Parent class\n",
      "Child class\n"
     ]
    }
   ],
   "source": [
    "'''\n",
    "    Types of Inheritance\n",
    "    \n",
    "    1. Single Inheritance\n",
    "    2. MultiLevel\n",
    "    3. Multiple\n",
    "    4. Hirarchial \n",
    "'''\n",
    "\n",
    "# Single Inheritance \n",
    "\n",
    "class Parent:\n",
    "    def m1(self):\n",
    "        print(\"Parent class\")\n",
    "        \n",
    "class Child(Parent):\n",
    "    def m2(self):\n",
    "        print(\"Child class\")\n",
    "        \n",
    "child = Child()\n",
    "child.m1()\n",
    "child.m2()"
   ]
  },
  {
   "cell_type": "code",
   "execution_count": 15,
   "id": "39ad78ad",
   "metadata": {},
   "outputs": [
    {
     "name": "stdout",
     "output_type": "stream",
     "text": [
      "Parent class\n",
      "child class\n",
      "child of child class\n"
     ]
    }
   ],
   "source": [
    "## MultiLevel Inheritance\n",
    "\n",
    "class Parent:\n",
    "    def m1(self):\n",
    "        print(\"Parent class\")\n",
    "        \n",
    "class Child(Parent):\n",
    "    def m2(self):\n",
    "        print(\"child class\")\n",
    "\n",
    "class ChildOfChild(Child):\n",
    "    def m3(self):\n",
    "        print(\"child of child class\")\n",
    "        \n",
    "subChild = ChildOfChild()\n",
    "subChild.m1()\n",
    "subChild.m2()\n",
    "subChild.m3()"
   ]
  },
  {
   "cell_type": "code",
   "execution_count": 16,
   "id": "69f778d7",
   "metadata": {},
   "outputs": [
    {
     "name": "stdout",
     "output_type": "stream",
     "text": [
      "Parent class\n",
      "child1 class\n",
      "Parent class\n",
      "child2 class\n"
     ]
    }
   ],
   "source": [
    "## Hirerchial Inheritance (Single Parent multiple childs)\n",
    "    \n",
    "class Parent :\n",
    "    def m1(self):\n",
    "        print(\"Parent class\")\n",
    "        \n",
    "class Child1(Parent):\n",
    "    def m2(self):\n",
    "        print(\"child1 class\")\n",
    "        \n",
    "class Child2(Parent):\n",
    "    def m2(self):\n",
    "        print(\"child2 class\")\n",
    "        \n",
    "child1 = Child1()\n",
    "child2 = Child2()\n",
    "\n",
    "child1.m1()\n",
    "child1.m2()\n",
    "\n",
    "child2.m1()\n",
    "child2.m2()"
   ]
  },
  {
   "cell_type": "code",
   "execution_count": 17,
   "id": "cdf9e6c2",
   "metadata": {},
   "outputs": [
    {
     "name": "stdout",
     "output_type": "stream",
     "text": [
      "Parent1 method\n",
      "Child class\n"
     ]
    }
   ],
   "source": [
    "## Multiple Inheritance \n",
    "    # Single Child with Multiple Parent\n",
    "\n",
    "    \n",
    "class Parent1:\n",
    "    def m1(self):\n",
    "        print(\"Parent1 method\")\n",
    "    \n",
    "class Parent2:\n",
    "    def m1(self):\n",
    "        print(\"Parent2 method\")\n",
    "        \n",
    "class Child(Parent1, Parent2):\n",
    "    def m2(self):\n",
    "        print(\"Child class\")\n",
    "        \n",
    "child = Child()\n",
    "child.m1()\n",
    "child.m2()"
   ]
  },
  {
   "cell_type": "code",
   "execution_count": 18,
   "id": "25ac4b31",
   "metadata": {},
   "outputs": [],
   "source": [
    "'''\n",
    "    Composition :  Strong assocciation (Without existing container object there is no chance of existing contained objects)\n",
    "        \n",
    "    Aggregation :  Oposite of Composition \n",
    "    \n",
    "'''\n",
    "\n",
    "# Example of Composition\n",
    "\n",
    "class University:\n",
    "    \n",
    "    def m1(self):\n",
    "        pass\n",
    "    \n",
    "    class Department:\n",
    "        \n",
    "        def m2(self):\n",
    "            pass\n",
    "        \n",
    "# Example of Aggregation \n",
    "\n",
    "class Professor :\n",
    "    \n",
    "    def m1(self):\n",
    "        pass\n",
    "    \n",
    "class University:\n",
    "    \n",
    "    def m2(self, prof):\n",
    "        prof.m1()"
   ]
  },
  {
   "cell_type": "code",
   "execution_count": 20,
   "id": "e2a17f9c",
   "metadata": {},
   "outputs": [
    {
     "name": "stdout",
     "output_type": "stream",
     "text": [
      "name Pratik is 21 years old\n"
     ]
    }
   ],
   "source": [
    "# Super \n",
    "\n",
    "class Person:\n",
    "    \n",
    "    def __init__(self, name , age):\n",
    "        self.name = name\n",
    "        self.age = age\n",
    "        \n",
    "    def display(self):\n",
    "        print(\"name {} is {} years old\".format(self.name, self.age))\n",
    "        \n",
    "class Employee(Person):\n",
    "    \n",
    "    def __init__(self, name, age, father_name):\n",
    "        super().__init__(name, age)\n",
    "        self.father_name = father_name\n",
    "        \n",
    "    def print_somethinf(self):\n",
    "        super().display()\n",
    "        \n",
    "emp = Employee(\"Pratik\", 21, \"JK\")\n",
    "emp.print_somethinf()"
   ]
  },
  {
   "cell_type": "code",
   "execution_count": 22,
   "id": "3e3cb7c7",
   "metadata": {},
   "outputs": [
    {
     "name": "stdout",
     "output_type": "stream",
     "text": [
      "Kelmska\n"
     ]
    }
   ],
   "source": [
    "## Polymorhism\n",
    "\n",
    "class French:\n",
    "    \n",
    "    def speak(self):\n",
    "        print(\"Kelmska\")\n",
    "        \n",
    "class Chinese:\n",
    "    \n",
    "    def speak(self):\n",
    "        print(\"ashjabs\")\n",
    "\n",
    "sarthak = French()\n",
    "prakash = Chinese()\n",
    "\n",
    "def say_hello(obj):\n",
    "    obj.speak()\n",
    "    \n",
    "say_hello(sarthak)"
   ]
  },
  {
   "cell_type": "code",
   "execution_count": null,
   "id": "05b8fd1a",
   "metadata": {},
   "outputs": [],
   "source": []
  }
 ],
 "metadata": {
  "kernelspec": {
   "display_name": "Python 3 (ipykernel)",
   "language": "python",
   "name": "python3"
  },
  "language_info": {
   "codemirror_mode": {
    "name": "ipython",
    "version": 3
   },
   "file_extension": ".py",
   "mimetype": "text/x-python",
   "name": "python",
   "nbconvert_exporter": "python",
   "pygments_lexer": "ipython3",
   "version": "3.9.13"
  }
 },
 "nbformat": 4,
 "nbformat_minor": 5
}
