{
 "cells": [
  {
   "cell_type": "code",
   "execution_count": 1,
   "id": "40ae6652",
   "metadata": {},
   "outputs": [
    {
     "data": {
      "text/plain": [
       "2"
      ]
     },
     "execution_count": 1,
     "metadata": {},
     "output_type": "execute_result"
    }
   ],
   "source": [
    "1+1 # Shift + Enter"
   ]
  },
  {
   "cell_type": "code",
   "execution_count": 2,
   "id": "d01a4013",
   "metadata": {},
   "outputs": [
    {
     "name": "stdout",
     "output_type": "stream",
     "text": [
      "Hello Pramod, Welcome to Python\n"
     ]
    }
   ],
   "source": [
    "print(\"Hello Pramod, Welcome to Python\")"
   ]
  },
  {
   "cell_type": "code",
   "execution_count": 3,
   "id": "e08506f7",
   "metadata": {},
   "outputs": [],
   "source": [
    "# This is my second comment This is only i did best in my life"
   ]
  },
  {
   "cell_type": "markdown",
   "id": "3ec49cb4",
   "metadata": {},
   "source": [
    "#Arithemetic operations"
   ]
  },
  {
   "cell_type": "code",
   "execution_count": 3,
   "id": "71d8a50c",
   "metadata": {},
   "outputs": [
    {
     "data": {
      "text/plain": [
       "3"
      ]
     },
     "execution_count": 3,
     "metadata": {},
     "output_type": "execute_result"
    }
   ],
   "source": [
    "# Adition operation \n",
    "2+1"
   ]
  },
  {
   "cell_type": "code",
   "execution_count": 4,
   "id": "f21d56da",
   "metadata": {},
   "outputs": [
    {
     "data": {
      "text/plain": [
       "1"
      ]
     },
     "execution_count": 4,
     "metadata": {},
     "output_type": "execute_result"
    }
   ],
   "source": [
    "# Substarction operation\n",
    "2-1"
   ]
  },
  {
   "cell_type": "code",
   "execution_count": 5,
   "id": "f559ed4f",
   "metadata": {},
   "outputs": [
    {
     "data": {
      "text/plain": [
       "6"
      ]
     },
     "execution_count": 5,
     "metadata": {},
     "output_type": "execute_result"
    }
   ],
   "source": [
    "# multiplication operation\n",
    "2*3"
   ]
  },
  {
   "cell_type": "code",
   "execution_count": 11,
   "id": "2497af1f",
   "metadata": {},
   "outputs": [
    {
     "name": "stdout",
     "output_type": "stream",
     "text": [
      "1.5\n",
      "1\n"
     ]
    }
   ],
   "source": [
    "# Division operation\n",
    "# Single  / always returns double value\n",
    "print(3/2)\n",
    "\n",
    "# // return integer value \n",
    "print(3//2)"
   ]
  },
  {
   "cell_type": "markdown",
   "id": "17f2834d",
   "metadata": {},
   "source": [
    "Modulo operation"
   ]
  },
  {
   "cell_type": "code",
   "execution_count": 12,
   "id": "fc1aa61c",
   "metadata": {},
   "outputs": [
    {
     "data": {
      "text/plain": [
       "0"
      ]
     },
     "execution_count": 12,
     "metadata": {},
     "output_type": "execute_result"
    }
   ],
   "source": [
    "15 % 3"
   ]
  },
  {
   "cell_type": "code",
   "execution_count": 13,
   "id": "38c225d4",
   "metadata": {},
   "outputs": [
    {
     "data": {
      "text/plain": [
       "1"
      ]
     },
     "execution_count": 13,
     "metadata": {},
     "output_type": "execute_result"
    }
   ],
   "source": [
    "15 % 2"
   ]
  },
  {
   "cell_type": "code",
   "execution_count": 14,
   "id": "7d715fdf",
   "metadata": {},
   "outputs": [
    {
     "data": {
      "text/plain": [
       "3"
      ]
     },
     "execution_count": 14,
     "metadata": {},
     "output_type": "execute_result"
    }
   ],
   "source": [
    "15 % 4"
   ]
  },
  {
   "cell_type": "code",
   "execution_count": 16,
   "id": "039ffaa2",
   "metadata": {},
   "outputs": [
    {
     "data": {
      "text/plain": [
       "16"
      ]
     },
     "execution_count": 16,
     "metadata": {},
     "output_type": "execute_result"
    }
   ],
   "source": [
    "# wE CAN DEFINE POWER ALSO\n",
    "\n",
    "2**4"
   ]
  },
  {
   "cell_type": "markdown",
   "id": "aca668ac",
   "metadata": {},
   "source": [
    "## Varibale Assignment"
   ]
  },
  {
   "cell_type": "code",
   "execution_count": 17,
   "id": "4c7f84c6",
   "metadata": {},
   "outputs": [],
   "source": [
    "# Rules :\n",
    "# 1. Names should not be start with number\n",
    "# 2. There cannot be spaces in b/wn names , use _ instaed\n",
    "# 3. should not use following symbols (:\"\",<>,/,?,|,\\,(),!,@,#,$,%,^,&,*,~,-,+)\n",
    "\n",
    "# Best practise : camelCase \n",
    "# Global variable : CAPITAL"
   ]
  },
  {
   "cell_type": "code",
   "execution_count": 18,
   "id": "b9a638e6",
   "metadata": {},
   "outputs": [],
   "source": [
    "var = 5"
   ]
  },
  {
   "cell_type": "code",
   "execution_count": 19,
   "id": "66a3be56",
   "metadata": {},
   "outputs": [
    {
     "data": {
      "text/plain": [
       "5"
      ]
     },
     "execution_count": 19,
     "metadata": {},
     "output_type": "execute_result"
    }
   ],
   "source": [
    "var"
   ]
  },
  {
   "cell_type": "code",
   "execution_count": 22,
   "id": "d29c3adc",
   "metadata": {},
   "outputs": [],
   "source": [
    "var +=10"
   ]
  },
  {
   "cell_type": "code",
   "execution_count": 23,
   "id": "c9cdfdb5",
   "metadata": {},
   "outputs": [
    {
     "data": {
      "text/plain": [
       "25"
      ]
     },
     "execution_count": 23,
     "metadata": {},
     "output_type": "execute_result"
    }
   ],
   "source": [
    "var"
   ]
  },
  {
   "cell_type": "code",
   "execution_count": 24,
   "id": "54c00e62",
   "metadata": {},
   "outputs": [
    {
     "data": {
      "text/plain": [
       "int"
      ]
     },
     "execution_count": 24,
     "metadata": {},
     "output_type": "execute_result"
    }
   ],
   "source": [
    "type(var)"
   ]
  },
  {
   "cell_type": "code",
   "execution_count": 25,
   "id": "e07621a1",
   "metadata": {},
   "outputs": [
    {
     "data": {
      "text/plain": [
       "float"
      ]
     },
     "execution_count": 25,
     "metadata": {},
     "output_type": "execute_result"
    }
   ],
   "source": [
    "var = 13.2\n",
    "type(var)"
   ]
  },
  {
   "cell_type": "code",
   "execution_count": 26,
   "id": "5da0e5ea",
   "metadata": {},
   "outputs": [],
   "source": [
    "int = 4"
   ]
  },
  {
   "cell_type": "code",
   "execution_count": 27,
   "id": "d8972929",
   "metadata": {},
   "outputs": [
    {
     "data": {
      "text/plain": [
       "4"
      ]
     },
     "execution_count": 27,
     "metadata": {},
     "output_type": "execute_result"
    }
   ],
   "source": [
    "int"
   ]
  },
  {
   "cell_type": "code",
   "execution_count": 3,
   "id": "b482df9d",
   "metadata": {},
   "outputs": [],
   "source": [
    "my_income = 100\n",
    "tax_rate = 0.1\n",
    "\n",
    "my_taxes = my_income * tax_rate"
   ]
  },
  {
   "cell_type": "code",
   "execution_count": 4,
   "id": "33a9be0a",
   "metadata": {},
   "outputs": [
    {
     "data": {
      "text/plain": [
       "10.0"
      ]
     },
     "execution_count": 4,
     "metadata": {},
     "output_type": "execute_result"
    }
   ],
   "source": [
    "my_taxes"
   ]
  },
  {
   "cell_type": "markdown",
   "id": "bf5a9ccb",
   "metadata": {},
   "source": [
    "## Strings"
   ]
  },
  {
   "cell_type": "code",
   "execution_count": 6,
   "id": "5edd74ff",
   "metadata": {},
   "outputs": [],
   "source": [
    "# Strings are sequence of characters\n",
    "\n",
    "# Character :         h  e  l  l  o\n",
    "# index    :          0  1  2  3  4\n",
    "# Reverse Index :     0 -4 -3 -2 -1\n",
    "\n",
    "\n",
    "## SLICE ==> Allows you to grab subsection of string \n",
    "# Syntax :  [ start : stop : step ]\n",
    "# start ==> numerical index for the slice start\n",
    "# stop  ==> numrical index for the slice stop\n",
    "# step  ==> start + slice = next_element\n"
   ]
  },
  {
   "cell_type": "code",
   "execution_count": 7,
   "id": "f1f58081",
   "metadata": {},
   "outputs": [],
   "source": [
    "my_string = \"I'm going to write the new string right now!!\""
   ]
  },
  {
   "cell_type": "code",
   "execution_count": 8,
   "id": "6e1ce286",
   "metadata": {},
   "outputs": [
    {
     "data": {
      "text/plain": [
       "\"I'm going to write the new string right now!!\""
      ]
     },
     "execution_count": 8,
     "metadata": {},
     "output_type": "execute_result"
    }
   ],
   "source": [
    "my_string"
   ]
  },
  {
   "cell_type": "code",
   "execution_count": 10,
   "id": "2ac9a5c0",
   "metadata": {},
   "outputs": [
    {
     "name": "stdout",
     "output_type": "stream",
     "text": [
      "Welcome to Python\n",
      " Mr. Pramod\n"
     ]
    }
   ],
   "source": [
    "# \\n is newLine indicator in python\n",
    "# \\t is tab separator in python\n",
    "print(\"Welcome to Python\\n Mr. Pramod\");"
   ]
  },
  {
   "cell_type": "code",
   "execution_count": 11,
   "id": "8f6b370f",
   "metadata": {},
   "outputs": [
    {
     "data": {
      "text/plain": [
       "45"
      ]
     },
     "execution_count": 11,
     "metadata": {},
     "output_type": "execute_result"
    }
   ],
   "source": [
    "# To find the length of the String\n",
    "len(my_string)"
   ]
  },
  {
   "cell_type": "code",
   "execution_count": 12,
   "id": "f12d392a",
   "metadata": {},
   "outputs": [
    {
     "data": {
      "text/plain": [
       "'I'"
      ]
     },
     "execution_count": 12,
     "metadata": {},
     "output_type": "execute_result"
    }
   ],
   "source": [
    "my_string[0]"
   ]
  },
  {
   "cell_type": "code",
   "execution_count": 14,
   "id": "80281a20",
   "metadata": {},
   "outputs": [
    {
     "data": {
      "text/plain": [
       "'Imgigt rt '"
      ]
     },
     "execution_count": 14,
     "metadata": {},
     "output_type": "execute_result"
    }
   ],
   "source": [
    "my_string[0:20:2]"
   ]
  },
  {
   "cell_type": "code",
   "execution_count": 15,
   "id": "5690e3d3",
   "metadata": {},
   "outputs": [
    {
     "data": {
      "text/plain": [
       "'!'"
      ]
     },
     "execution_count": 15,
     "metadata": {},
     "output_type": "execute_result"
    }
   ],
   "source": [
    "my_string[-1]"
   ]
  },
  {
   "cell_type": "code",
   "execution_count": 16,
   "id": "1f5fef18",
   "metadata": {},
   "outputs": [
    {
     "data": {
      "text/plain": [
       "'oing to write the new string right now!!'"
      ]
     },
     "execution_count": 16,
     "metadata": {},
     "output_type": "execute_result"
    }
   ],
   "source": [
    "my_string[5:]"
   ]
  },
  {
   "cell_type": "code",
   "execution_count": 17,
   "id": "5461141e",
   "metadata": {},
   "outputs": [
    {
     "data": {
      "text/plain": [
       "\"I'm \""
      ]
     },
     "execution_count": 17,
     "metadata": {},
     "output_type": "execute_result"
    }
   ],
   "source": [
    "my_string[:4]"
   ]
  },
  {
   "cell_type": "code",
   "execution_count": 18,
   "id": "fb9b035b",
   "metadata": {},
   "outputs": [
    {
     "data": {
      "text/plain": [
       "\"!!won thgir gnirts wen eht etirw ot gniog m'I\""
      ]
     },
     "execution_count": 18,
     "metadata": {},
     "output_type": "execute_result"
    }
   ],
   "source": [
    "# Reverse the String \n",
    "my_string[::-1]"
   ]
  },
  {
   "cell_type": "markdown",
   "id": "87330133",
   "metadata": {},
   "source": [
    "## Immutability"
   ]
  },
  {
   "cell_type": "code",
   "execution_count": 19,
   "id": "b76eb5b4",
   "metadata": {},
   "outputs": [
    {
     "ename": "TypeError",
     "evalue": "'str' object does not support item assignment",
     "output_type": "error",
     "traceback": [
      "\u001b[1;31m---------------------------------------------------------------------------\u001b[0m",
      "\u001b[1;31mTypeError\u001b[0m                                 Traceback (most recent call last)",
      "\u001b[1;32m~\\AppData\\Local\\Temp\\ipykernel_23448\\2659597089.py\u001b[0m in \u001b[0;36m<module>\u001b[1;34m\u001b[0m\n\u001b[0;32m      1\u001b[0m \u001b[0mname\u001b[0m \u001b[1;33m=\u001b[0m \u001b[1;34m\"Sam\"\u001b[0m\u001b[1;33m\u001b[0m\u001b[1;33m\u001b[0m\u001b[0m\n\u001b[1;32m----> 2\u001b[1;33m \u001b[0mname\u001b[0m\u001b[1;33m[\u001b[0m\u001b[1;36m0\u001b[0m\u001b[1;33m]\u001b[0m \u001b[1;33m=\u001b[0m \u001b[1;34m\"P\"\u001b[0m\u001b[1;33m\u001b[0m\u001b[1;33m\u001b[0m\u001b[0m\n\u001b[0m",
      "\u001b[1;31mTypeError\u001b[0m: 'str' object does not support item assignment"
     ]
    }
   ],
   "source": [
    "# It will throw an error\n",
    "name = \"Sam\"\n",
    "name[0] = \"P\""
   ]
  },
  {
   "cell_type": "code",
   "execution_count": 20,
   "id": "f0cce0d4",
   "metadata": {},
   "outputs": [
    {
     "data": {
      "text/plain": [
       "'Pam'"
      ]
     },
     "execution_count": 20,
     "metadata": {},
     "output_type": "execute_result"
    }
   ],
   "source": [
    "\"P\"+name[1:]"
   ]
  },
  {
   "cell_type": "code",
   "execution_count": 22,
   "id": "bfc07653",
   "metadata": {},
   "outputs": [
    {
     "name": "stdout",
     "output_type": "stream",
     "text": [
      "zzzzzzzzzz\n"
     ]
    }
   ],
   "source": [
    "print(\"z\" * 10)"
   ]
  },
  {
   "cell_type": "code",
   "execution_count": 24,
   "id": "cb64186d",
   "metadata": {},
   "outputs": [
    {
     "name": "stdout",
     "output_type": "stream",
     "text": [
      "24\n"
     ]
    }
   ],
   "source": [
    "print(\"2\" + \"4\")"
   ]
  },
  {
   "cell_type": "code",
   "execution_count": 25,
   "id": "afb852c9",
   "metadata": {},
   "outputs": [
    {
     "data": {
      "text/plain": [
       "\"I'M GOING TO WRITE THE NEW STRING RIGHT NOW!!\""
      ]
     },
     "execution_count": 25,
     "metadata": {},
     "output_type": "execute_result"
    }
   ],
   "source": [
    "my_string.upper()"
   ]
  },
  {
   "cell_type": "code",
   "execution_count": 26,
   "id": "92b4e58d",
   "metadata": {},
   "outputs": [
    {
     "data": {
      "text/plain": [
       "\"I'm going to write the new string right now!!\""
      ]
     },
     "execution_count": 26,
     "metadata": {},
     "output_type": "execute_result"
    }
   ],
   "source": [
    "my_string"
   ]
  },
  {
   "cell_type": "code",
   "execution_count": 30,
   "id": "7a8fb137",
   "metadata": {},
   "outputs": [
    {
     "data": {
      "text/plain": [
       "\"i'm going to write the new string right now!!\""
      ]
     },
     "execution_count": 30,
     "metadata": {},
     "output_type": "execute_result"
    }
   ],
   "source": [
    "my_string.lower()"
   ]
  },
  {
   "cell_type": "code",
   "execution_count": 37,
   "id": "d37c7e6a",
   "metadata": {},
   "outputs": [
    {
     "data": {
      "text/plain": [
       "[\"I'm\", 'going', 'to', 'write', 'the', 'new', 'string', 'right', 'now!!']"
      ]
     },
     "execution_count": 37,
     "metadata": {},
     "output_type": "execute_result"
    }
   ],
   "source": [
    "# I will split the string by default as white spaces\n",
    "my_string.split()"
   ]
  },
  {
   "cell_type": "code",
   "execution_count": 38,
   "id": "fc276bc5",
   "metadata": {},
   "outputs": [
    {
     "name": "stdout",
     "output_type": "stream",
     "text": [
      "This is a String Inserted\n"
     ]
    }
   ],
   "source": [
    "# Formating the Strings\n",
    "print(\"This is a String {}\".format('Inserted'))"
   ]
  },
  {
   "cell_type": "code",
   "execution_count": 40,
   "id": "40694ded",
   "metadata": {},
   "outputs": [
    {
     "name": "stdout",
     "output_type": "stream",
     "text": [
      "My name is pramod\n"
     ]
    }
   ],
   "source": [
    "print (\"My {1} is {0}\".format('pramod','name'))"
   ]
  },
  {
   "cell_type": "code",
   "execution_count": 43,
   "id": "0d89cb75",
   "metadata": {},
   "outputs": [
    {
     "name": "stdout",
     "output_type": "stream",
     "text": [
      "The result is 0.129\n"
     ]
    }
   ],
   "source": [
    "## Float Formatting follows \"{value:width.precision f}\"\n",
    "\n",
    "resullt = 100/777\n",
    "print(\"The result is {:1.3}\".format(resullt))"
   ]
  },
  {
   "cell_type": "code",
   "execution_count": 44,
   "id": "31dc9b74",
   "metadata": {},
   "outputs": [
    {
     "name": "stdout",
     "output_type": "stream",
     "text": [
      "Hello Mr. Sam\n"
     ]
    }
   ],
   "source": [
    "print(f'Hello Mr. {name}')"
   ]
  },
  {
   "cell_type": "markdown",
   "id": "c0dfb80d",
   "metadata": {},
   "source": [
    "## LIST"
   ]
  },
  {
   "cell_type": "code",
   "execution_count": 45,
   "id": "1dc1fd5f",
   "metadata": {},
   "outputs": [],
   "source": [
    "my_list = [1,2,3]"
   ]
  },
  {
   "cell_type": "code",
   "execution_count": 46,
   "id": "c8318532",
   "metadata": {},
   "outputs": [
    {
     "data": {
      "text/plain": [
       "[1, 2, 3]"
      ]
     },
     "execution_count": 46,
     "metadata": {},
     "output_type": "execute_result"
    }
   ],
   "source": [
    "my_list"
   ]
  },
  {
   "cell_type": "code",
   "execution_count": 48,
   "id": "0b22b711",
   "metadata": {},
   "outputs": [
    {
     "data": {
      "text/plain": [
       "[0, 'STRING', 9.54]"
      ]
     },
     "execution_count": 48,
     "metadata": {},
     "output_type": "execute_result"
    }
   ],
   "source": [
    "# It can be mixed with other data types also\n",
    "\n",
    "my_list = [0, 'STRING', 9.54]\n",
    "my_list"
   ]
  },
  {
   "cell_type": "code",
   "execution_count": 49,
   "id": "5467e7f3",
   "metadata": {},
   "outputs": [
    {
     "data": {
      "text/plain": [
       "[0, 'STRING', 9.54, 4, 'Hello']"
      ]
     },
     "execution_count": 49,
     "metadata": {},
     "output_type": "execute_result"
    }
   ],
   "source": [
    "another_list = [4, \"Hello\"]\n",
    "final_list = my_list + another_list\n",
    "final_list"
   ]
  },
  {
   "cell_type": "code",
   "execution_count": 50,
   "id": "ed42678b",
   "metadata": {},
   "outputs": [],
   "source": [
    "final_list[0] = 24"
   ]
  },
  {
   "cell_type": "code",
   "execution_count": 51,
   "id": "8cb8a809",
   "metadata": {},
   "outputs": [
    {
     "data": {
      "text/plain": [
       "[24, 'STRING', 9.54, 4, 'Hello']"
      ]
     },
     "execution_count": 51,
     "metadata": {},
     "output_type": "execute_result"
    }
   ],
   "source": [
    "final_list"
   ]
  },
  {
   "cell_type": "code",
   "execution_count": 52,
   "id": "5eea0351",
   "metadata": {},
   "outputs": [
    {
     "data": {
      "text/plain": [
       "'string'"
      ]
     },
     "execution_count": 52,
     "metadata": {},
     "output_type": "execute_result"
    }
   ],
   "source": [
    "final_list[1].lower()"
   ]
  },
  {
   "cell_type": "code",
   "execution_count": 53,
   "id": "48677f8a",
   "metadata": {},
   "outputs": [],
   "source": [
    "final_list.reverse()"
   ]
  },
  {
   "cell_type": "code",
   "execution_count": 54,
   "id": "3975355b",
   "metadata": {},
   "outputs": [
    {
     "data": {
      "text/plain": [
       "['Hello', 4, 9.54, 'STRING', 24]"
      ]
     },
     "execution_count": 54,
     "metadata": {},
     "output_type": "execute_result"
    }
   ],
   "source": [
    "final_list"
   ]
  },
  {
   "cell_type": "code",
   "execution_count": 61,
   "id": "fac6301f",
   "metadata": {},
   "outputs": [
    {
     "data": {
      "text/plain": [
       "['Hello', 'STRING', 24]"
      ]
     },
     "execution_count": 61,
     "metadata": {},
     "output_type": "execute_result"
    }
   ],
   "source": [
    "final_list.remove(9.54)\n",
    "final_list"
   ]
  },
  {
   "cell_type": "code",
   "execution_count": 62,
   "id": "cc6a20ce",
   "metadata": {},
   "outputs": [
    {
     "data": {
      "text/plain": [
       "24"
      ]
     },
     "execution_count": 62,
     "metadata": {},
     "output_type": "execute_result"
    }
   ],
   "source": [
    "final_list.pop()"
   ]
  },
  {
   "cell_type": "code",
   "execution_count": 63,
   "id": "817965dd",
   "metadata": {},
   "outputs": [
    {
     "data": {
      "text/plain": [
       "['Hello', 'STRING']"
      ]
     },
     "execution_count": 63,
     "metadata": {},
     "output_type": "execute_result"
    }
   ],
   "source": [
    "final_list"
   ]
  },
  {
   "cell_type": "code",
   "execution_count": 64,
   "id": "05bb8b1e",
   "metadata": {},
   "outputs": [],
   "source": [
    "final_list.sort()"
   ]
  },
  {
   "cell_type": "code",
   "execution_count": 65,
   "id": "094420a6",
   "metadata": {},
   "outputs": [
    {
     "data": {
      "text/plain": [
       "['Hello', 'STRING']"
      ]
     },
     "execution_count": 65,
     "metadata": {},
     "output_type": "execute_result"
    }
   ],
   "source": [
    "final_list"
   ]
  },
  {
   "cell_type": "code",
   "execution_count": 66,
   "id": "738b0601",
   "metadata": {},
   "outputs": [],
   "source": [
    "final_list.reverse()"
   ]
  },
  {
   "cell_type": "code",
   "execution_count": 67,
   "id": "cf3ba382",
   "metadata": {},
   "outputs": [
    {
     "data": {
      "text/plain": [
       "['STRING', 'Hello']"
      ]
     },
     "execution_count": 67,
     "metadata": {},
     "output_type": "execute_result"
    }
   ],
   "source": [
    "final_list"
   ]
  },
  {
   "cell_type": "code",
   "execution_count": 68,
   "id": "dba9fbc8",
   "metadata": {},
   "outputs": [],
   "source": [
    "final_list.sort()"
   ]
  },
  {
   "cell_type": "code",
   "execution_count": 69,
   "id": "7d02713b",
   "metadata": {},
   "outputs": [
    {
     "data": {
      "text/plain": [
       "['Hello', 'STRING']"
      ]
     },
     "execution_count": 69,
     "metadata": {},
     "output_type": "execute_result"
    }
   ],
   "source": [
    "final_list"
   ]
  },
  {
   "cell_type": "markdown",
   "id": "43396d3a",
   "metadata": {},
   "source": [
    "## Dictionaries"
   ]
  },
  {
   "cell_type": "code",
   "execution_count": 70,
   "id": "3ffcf00c",
   "metadata": {},
   "outputs": [],
   "source": [
    "## It is like a map\n",
    "\n",
    "# It uses key , value pairs\n",
    "# It is un-ordered "
   ]
  },
  {
   "cell_type": "code",
   "execution_count": 71,
   "id": "66339178",
   "metadata": {},
   "outputs": [],
   "source": [
    "my_dict = {'name': 'Pramod', 'age': 21, 'college' : 'MSRIT'}"
   ]
  },
  {
   "cell_type": "code",
   "execution_count": 72,
   "id": "ab0d65f8",
   "metadata": {},
   "outputs": [
    {
     "data": {
      "text/plain": [
       "{'name': 'Pramod', 'age': 21, 'college': 'MSRIT'}"
      ]
     },
     "execution_count": 72,
     "metadata": {},
     "output_type": "execute_result"
    }
   ],
   "source": [
    "my_dict"
   ]
  },
  {
   "cell_type": "code",
   "execution_count": 77,
   "id": "60a537bc",
   "metadata": {},
   "outputs": [
    {
     "data": {
      "text/plain": [
       "21"
      ]
     },
     "execution_count": 77,
     "metadata": {},
     "output_type": "execute_result"
    }
   ],
   "source": [
    "my_dict['age']"
   ]
  },
  {
   "cell_type": "code",
   "execution_count": 75,
   "id": "7786619d",
   "metadata": {},
   "outputs": [
    {
     "data": {
      "text/plain": [
       "'Pramod'"
      ]
     },
     "execution_count": 75,
     "metadata": {},
     "output_type": "execute_result"
    }
   ],
   "source": [
    "my_dict['name']"
   ]
  },
  {
   "cell_type": "code",
   "execution_count": 79,
   "id": "387b952b",
   "metadata": {},
   "outputs": [],
   "source": [
    "nested_dir = { 'name' : 'pratik', 'age' : 21, 'addr' : {'pincode' : 3455, 'area' : 'Bangalore'}}"
   ]
  },
  {
   "cell_type": "code",
   "execution_count": 84,
   "id": "ca11812f",
   "metadata": {},
   "outputs": [
    {
     "data": {
      "text/plain": [
       "3455"
      ]
     },
     "execution_count": 84,
     "metadata": {},
     "output_type": "execute_result"
    }
   ],
   "source": [
    "nested_dir['addr']['pincode']"
   ]
  },
  {
   "cell_type": "code",
   "execution_count": 86,
   "id": "2ee429e5",
   "metadata": {},
   "outputs": [
    {
     "data": {
      "text/plain": [
       "dict_keys(['name', 'age', 'addr'])"
      ]
     },
     "execution_count": 86,
     "metadata": {},
     "output_type": "execute_result"
    }
   ],
   "source": [
    "# Dictionarary keys\n",
    "nested_dir.keys()"
   ]
  },
  {
   "cell_type": "code",
   "execution_count": 92,
   "id": "bf756549",
   "metadata": {},
   "outputs": [
    {
     "data": {
      "text/plain": [
       "dict_values(['pratik', 21, {'pincode': 3455, 'area': 'Bangalore'}])"
      ]
     },
     "execution_count": 92,
     "metadata": {},
     "output_type": "execute_result"
    }
   ],
   "source": [
    "# Dictionarary values\n",
    "nested_dir.values()"
   ]
  },
  {
   "cell_type": "code",
   "execution_count": 93,
   "id": "0eea9337",
   "metadata": {},
   "outputs": [
    {
     "data": {
      "text/plain": [
       "dict_items([('name', 'pratik'), ('age', 21), ('addr', {'pincode': 3455, 'area': 'Bangalore'})])"
      ]
     },
     "execution_count": 93,
     "metadata": {},
     "output_type": "execute_result"
    }
   ],
   "source": [
    "# Dictionarary entry set\n",
    "nested_dir.items()"
   ]
  },
  {
   "cell_type": "markdown",
   "id": "ff5ba990",
   "metadata": {},
   "source": [
    "## Tuples"
   ]
  },
  {
   "cell_type": "code",
   "execution_count": 94,
   "id": "8c2843ae",
   "metadata": {},
   "outputs": [],
   "source": [
    "## very similar to list but are immmutable\n",
    "# Provides Data Integrity\n",
    "# List [] and tuples ()"
   ]
  },
  {
   "cell_type": "code",
   "execution_count": 95,
   "id": "a78b92cb",
   "metadata": {},
   "outputs": [],
   "source": [
    "my_tuple = (1,2,3, \"pramod\")"
   ]
  },
  {
   "cell_type": "code",
   "execution_count": 96,
   "id": "2d251e5c",
   "metadata": {},
   "outputs": [
    {
     "data": {
      "text/plain": [
       "(1, 2, 3, 'pramod')"
      ]
     },
     "execution_count": 96,
     "metadata": {},
     "output_type": "execute_result"
    }
   ],
   "source": [
    "my_tuple"
   ]
  },
  {
   "cell_type": "code",
   "execution_count": 97,
   "id": "234263a2",
   "metadata": {},
   "outputs": [
    {
     "data": {
      "text/plain": [
       "'pramod'"
      ]
     },
     "execution_count": 97,
     "metadata": {},
     "output_type": "execute_result"
    }
   ],
   "source": [
    "my_tuple[-1]"
   ]
  },
  {
   "cell_type": "code",
   "execution_count": 99,
   "id": "5c6254ba",
   "metadata": {},
   "outputs": [
    {
     "data": {
      "text/plain": [
       "1"
      ]
     },
     "execution_count": 99,
     "metadata": {},
     "output_type": "execute_result"
    }
   ],
   "source": [
    "my_tuple.count(1)"
   ]
  },
  {
   "cell_type": "markdown",
   "id": "cfe7f90b",
   "metadata": {},
   "source": [
    "## Sets"
   ]
  },
  {
   "cell_type": "code",
   "execution_count": 100,
   "id": "0fa2a124",
   "metadata": {},
   "outputs": [],
   "source": [
    "## Collection of elements with unique elements\n",
    "# unordered"
   ]
  },
  {
   "cell_type": "code",
   "execution_count": 101,
   "id": "3a6b6945",
   "metadata": {},
   "outputs": [],
   "source": [
    "my_set = {1,2}"
   ]
  },
  {
   "cell_type": "code",
   "execution_count": 102,
   "id": "7c008f9c",
   "metadata": {},
   "outputs": [
    {
     "data": {
      "text/plain": [
       "{1, 2}"
      ]
     },
     "execution_count": 102,
     "metadata": {},
     "output_type": "execute_result"
    }
   ],
   "source": [
    "my_set"
   ]
  },
  {
   "cell_type": "code",
   "execution_count": 103,
   "id": "84f3a762",
   "metadata": {},
   "outputs": [],
   "source": [
    "my_set.add(3)"
   ]
  },
  {
   "cell_type": "code",
   "execution_count": 104,
   "id": "03672ccb",
   "metadata": {},
   "outputs": [
    {
     "data": {
      "text/plain": [
       "{1, 2, 3}"
      ]
     },
     "execution_count": 104,
     "metadata": {},
     "output_type": "execute_result"
    }
   ],
   "source": [
    "my_set"
   ]
  },
  {
   "cell_type": "code",
   "execution_count": 108,
   "id": "e7d6571b",
   "metadata": {},
   "outputs": [
    {
     "data": {
      "text/plain": [
       "{'M', 'i', 'p', 's'}"
      ]
     },
     "execution_count": 108,
     "metadata": {},
     "output_type": "execute_result"
    }
   ],
   "source": [
    "set('Mississippi')"
   ]
  },
  {
   "cell_type": "markdown",
   "id": "e84d54bc",
   "metadata": {},
   "source": [
    "## Boolean"
   ]
  },
  {
   "cell_type": "code",
   "execution_count": 109,
   "id": "66fc7d9f",
   "metadata": {},
   "outputs": [
    {
     "data": {
      "text/plain": [
       "True"
      ]
     },
     "execution_count": 109,
     "metadata": {},
     "output_type": "execute_result"
    }
   ],
   "source": [
    "True"
   ]
  },
  {
   "cell_type": "code",
   "execution_count": 110,
   "id": "d5d0ca5f",
   "metadata": {},
   "outputs": [
    {
     "data": {
      "text/plain": [
       "bool"
      ]
     },
     "execution_count": 110,
     "metadata": {},
     "output_type": "execute_result"
    }
   ],
   "source": [
    "type(True)"
   ]
  },
  {
   "cell_type": "markdown",
   "id": "8b3715a6",
   "metadata": {},
   "source": [
    "## File I/O"
   ]
  },
  {
   "cell_type": "code",
   "execution_count": 118,
   "id": "0a177719",
   "metadata": {},
   "outputs": [
    {
     "name": "stdout",
     "output_type": "stream",
     "text": [
      "Overwriting myfile.txt\n"
     ]
    }
   ],
   "source": [
    "%%writefile myfile.txt\n",
    "This my first text file\n",
    "This is my second line "
   ]
  },
  {
   "cell_type": "code",
   "execution_count": 119,
   "id": "4054984c",
   "metadata": {},
   "outputs": [],
   "source": [
    "myfile = open('myfile.txt')"
   ]
  },
  {
   "cell_type": "code",
   "execution_count": 116,
   "id": "8faad6a3",
   "metadata": {},
   "outputs": [
    {
     "data": {
      "text/plain": [
       "['This my first text file\\n', 'This is my second line \\n']"
      ]
     },
     "execution_count": 116,
     "metadata": {},
     "output_type": "execute_result"
    }
   ],
   "source": [
    "# readline helps to run line by line data\n",
    "myfile.readlines()"
   ]
  },
  {
   "cell_type": "code",
   "execution_count": 120,
   "id": "28da7ede",
   "metadata": {},
   "outputs": [
    {
     "data": {
      "text/plain": [
       "'This my first text file\\nThis is my second line \\n'"
      ]
     },
     "execution_count": 120,
     "metadata": {},
     "output_type": "execute_result"
    }
   ],
   "source": [
    "# This method read the data one by one\n",
    "myfile.read()"
   ]
  },
  {
   "cell_type": "code",
   "execution_count": 121,
   "id": "d1900e8b",
   "metadata": {},
   "outputs": [
    {
     "data": {
      "text/plain": [
       "''"
      ]
     },
     "execution_count": 121,
     "metadata": {},
     "output_type": "execute_result"
    }
   ],
   "source": [
    "myfile.read()"
   ]
  },
  {
   "cell_type": "code",
   "execution_count": 122,
   "id": "1fb3bc17",
   "metadata": {},
   "outputs": [
    {
     "data": {
      "text/plain": [
       "0"
      ]
     },
     "execution_count": 122,
     "metadata": {},
     "output_type": "execute_result"
    }
   ],
   "source": [
    "myfile.seek(0)"
   ]
  },
  {
   "cell_type": "code",
   "execution_count": 123,
   "id": "334ca2fc",
   "metadata": {},
   "outputs": [
    {
     "data": {
      "text/plain": [
       "'This my first text file\\nThis is my second line \\n'"
      ]
     },
     "execution_count": 123,
     "metadata": {},
     "output_type": "execute_result"
    }
   ],
   "source": [
    "myfile.read()"
   ]
  },
  {
   "cell_type": "code",
   "execution_count": 124,
   "id": "04bbcec0",
   "metadata": {},
   "outputs": [
    {
     "data": {
      "text/plain": [
       "'C:\\\\Users\\\\prady\\\\My Python Stuff'"
      ]
     },
     "execution_count": 124,
     "metadata": {},
     "output_type": "execute_result"
    }
   ],
   "source": [
    "pwd"
   ]
  },
  {
   "cell_type": "code",
   "execution_count": 125,
   "id": "2a93079e",
   "metadata": {},
   "outputs": [],
   "source": [
    "myfile.close()"
   ]
  },
  {
   "cell_type": "code",
   "execution_count": 127,
   "id": "09a9637d",
   "metadata": {},
   "outputs": [],
   "source": [
    "with open(\"myfile.txt\") as myfile:\n",
    "    content = myfile.read()"
   ]
  },
  {
   "cell_type": "code",
   "execution_count": 128,
   "id": "6b4daf7a",
   "metadata": {},
   "outputs": [
    {
     "data": {
      "text/plain": [
       "'This my first text file\\nThis is my second line \\n'"
      ]
     },
     "execution_count": 128,
     "metadata": {},
     "output_type": "execute_result"
    }
   ],
   "source": [
    "content"
   ]
  },
  {
   "cell_type": "code",
   "execution_count": null,
   "id": "a01cf5e3",
   "metadata": {},
   "outputs": [],
   "source": []
  }
 ],
 "metadata": {
  "kernelspec": {
   "display_name": "Python 3 (ipykernel)",
   "language": "python",
   "name": "python3"
  },
  "language_info": {
   "codemirror_mode": {
    "name": "ipython",
    "version": 3
   },
   "file_extension": ".py",
   "mimetype": "text/x-python",
   "name": "python",
   "nbconvert_exporter": "python",
   "pygments_lexer": "ipython3",
   "version": "3.9.13"
  }
 },
 "nbformat": 4,
 "nbformat_minor": 5
}
