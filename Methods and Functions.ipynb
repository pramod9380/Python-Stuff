{
 "cells": [
  {
   "cell_type": "code",
   "execution_count": 1,
   "id": "7f9ba0c8",
   "metadata": {},
   "outputs": [
    {
     "name": "stdout",
     "output_type": "stream",
     "text": [
      "5\n"
     ]
    }
   ],
   "source": [
    "#Fucntions\n",
    "\n",
    "# Syntax :\n",
    "\n",
    "    # snake casing ==> all word lowercase with _ in b/wn \n",
    "\n",
    "'''\n",
    "    This is multiline comment \n",
    "    \n",
    "    def name_of_function (args) :\n",
    "        # do_something\n",
    "        \n",
    "    calling \n",
    "    name_of_function(args)\n",
    "    \n",
    "'''\n",
    "# simple example\n",
    "\n",
    "def add_two_numbers(num1,num2):\n",
    "    return num1+num2\n",
    "\n",
    "print(add_two_numbers(2,3))"
   ]
  },
  {
   "cell_type": "code",
   "execution_count": 3,
   "id": "eac77779",
   "metadata": {},
   "outputs": [
    {
     "name": "stdout",
     "output_type": "stream",
     "text": [
      "No it is not even number\n"
     ]
    }
   ],
   "source": [
    "# Write a function to check whether the given number is even or not\n",
    "\n",
    "def even_or_not(number):\n",
    "    if(number%2==0):\n",
    "        return \"Yes it is even number\"\n",
    "    else:\n",
    "        return \"No it is not even number\"\n",
    "print(even_or_not(5))"
   ]
  },
  {
   "cell_type": "code",
   "execution_count": 6,
   "id": "1585ce74",
   "metadata": {},
   "outputs": [
    {
     "name": "stdout",
     "output_type": "stream",
     "text": [
      "Hello Pratik\n"
     ]
    }
   ],
   "source": [
    "# Fuctions with default value\n",
    "\n",
    "def print_name(name=\"pramod\"):\n",
    "    print(\"Hello\", name)\n",
    "\n",
    "print_name(\"Pratik\")"
   ]
  },
  {
   "cell_type": "code",
   "execution_count": 14,
   "id": "7be70403",
   "metadata": {},
   "outputs": [
    {
     "ename": "UnboundLocalError",
     "evalue": "local variable 'fact' referenced before assignment",
     "output_type": "error",
     "traceback": [
      "\u001b[1;31m---------------------------------------------------------------------------\u001b[0m",
      "\u001b[1;31mUnboundLocalError\u001b[0m                         Traceback (most recent call last)",
      "\u001b[1;32m~\\AppData\\Local\\Temp\\ipykernel_20212\\3104506767.py\u001b[0m in \u001b[0;36m<module>\u001b[1;34m\u001b[0m\n\u001b[0;32m      8\u001b[0m     \u001b[1;32mreturn\u001b[0m \u001b[0mfact\u001b[0m\u001b[1;33m\u001b[0m\u001b[1;33m\u001b[0m\u001b[0m\n\u001b[0;32m      9\u001b[0m \u001b[1;33m\u001b[0m\u001b[0m\n\u001b[1;32m---> 10\u001b[1;33m \u001b[0mrecursive_factorail\u001b[0m\u001b[1;33m(\u001b[0m\u001b[1;36m5\u001b[0m\u001b[1;33m)\u001b[0m\u001b[1;33m\u001b[0m\u001b[1;33m\u001b[0m\u001b[0m\n\u001b[0m",
      "\u001b[1;32m~\\AppData\\Local\\Temp\\ipykernel_20212\\3104506767.py\u001b[0m in \u001b[0;36mrecursive_factorail\u001b[1;34m(number)\u001b[0m\n\u001b[0;32m      5\u001b[0m         \u001b[0mfact\u001b[0m \u001b[1;33m=\u001b[0m \u001b[0mfact\u001b[0m \u001b[1;33m*\u001b[0m \u001b[1;36m1\u001b[0m\u001b[1;33m\u001b[0m\u001b[1;33m\u001b[0m\u001b[0m\n\u001b[0;32m      6\u001b[0m     \u001b[1;32melse\u001b[0m\u001b[1;33m:\u001b[0m\u001b[1;33m\u001b[0m\u001b[1;33m\u001b[0m\u001b[0m\n\u001b[1;32m----> 7\u001b[1;33m         \u001b[0mfact\u001b[0m \u001b[1;33m=\u001b[0m \u001b[0mfact\u001b[0m \u001b[1;33m*\u001b[0m \u001b[0mrecursive_factorail\u001b[0m\u001b[1;33m(\u001b[0m\u001b[0mnumber\u001b[0m\u001b[1;33m-\u001b[0m\u001b[1;36m1\u001b[0m\u001b[1;33m)\u001b[0m\u001b[1;33m\u001b[0m\u001b[1;33m\u001b[0m\u001b[0m\n\u001b[0m\u001b[0;32m      8\u001b[0m     \u001b[1;32mreturn\u001b[0m \u001b[0mfact\u001b[0m\u001b[1;33m\u001b[0m\u001b[1;33m\u001b[0m\u001b[0m\n\u001b[0;32m      9\u001b[0m \u001b[1;33m\u001b[0m\u001b[0m\n",
      "\u001b[1;31mUnboundLocalError\u001b[0m: local variable 'fact' referenced before assignment"
     ]
    }
   ],
   "source": [
    "# Write a recursive function to find the factorial function\n",
    "\n",
    "def recursive_factorail(number):\n",
    "    if(number==0):\n",
    "        fact = fact * 1\n",
    "    else:\n",
    "        fact = fact * recursive_factorail(number-1)\n",
    "    return fact\n",
    "\n",
    "recursive_factorail(5)"
   ]
  },
  {
   "cell_type": "code",
   "execution_count": 15,
   "id": "cd64cd8c",
   "metadata": {},
   "outputs": [
    {
     "name": "stdout",
     "output_type": "stream",
     "text": [
      "('bhaiya', 800)\n"
     ]
    }
   ],
   "source": [
    "# tuple unpacking with python functions\n",
    "\n",
    "working_hours = [('pratik',400),('didi',600),('ashish',500),('bhaiya',800)]\n",
    "\n",
    "def find_best_employee(working_hours):\n",
    "    max_hrs = 0\n",
    "    best_emp_name = ''\n",
    "    for name,hrs in working_hours:\n",
    "        if(hrs>max_hrs):\n",
    "            max_hrs = hrs\n",
    "            best_emp_name = name\n",
    "        else:\n",
    "            pass\n",
    "    return (best_emp_name,max_hrs)\n",
    "\n",
    "print(find_best_employee(working_hours))"
   ]
  },
  {
   "cell_type": "code",
   "execution_count": 20,
   "id": "46cf1883",
   "metadata": {},
   "outputs": [
    {
     "name": "stdout",
     "output_type": "stream",
     "text": [
      "(100, 100)\n",
      "10.0\n"
     ]
    }
   ],
   "source": [
    "# *args in python\n",
    "\n",
    "def args_example(*args):\n",
    "    print(args)\n",
    "    return sum(args)*0.05\n",
    "\n",
    "print(args_example(100,100))"
   ]
  },
  {
   "cell_type": "code",
   "execution_count": 27,
   "id": "c4e06354",
   "metadata": {},
   "outputs": [
    {
     "name": "stdout",
     "output_type": "stream",
     "text": [
      "{'fruit': 'apple', 'age': 20}\n",
      "My fruit of choice is apple\n"
     ]
    }
   ],
   "source": [
    "# **kwargs\n",
    "\n",
    "def myfunc(**kwargs):\n",
    "    print(kwargs)\n",
    "    if 'fruit' in kwargs:\n",
    "        print('My fruit of choice is {}'.format(kwargs['fruit']))\n",
    "    else:\n",
    "        print('I did not find my fruit here')\n",
    "\n",
    "myfunc(fruit='apple',age=20)"
   ]
  },
  {
   "cell_type": "code",
   "execution_count": 29,
   "id": "928908ac",
   "metadata": {},
   "outputs": [
    {
     "data": {
      "text/plain": [
       "'pRaMoD'"
      ]
     },
     "execution_count": 29,
     "metadata": {},
     "output_type": "execute_result"
    }
   ],
   "source": [
    "def myfunc(string):\n",
    "    new_string = ''\n",
    "    for index in range(0, len(string)):\n",
    "        if(index%2==0):\n",
    "            new_string+=string[index].lower()\n",
    "        else:\n",
    "            new_string+=string[index].upper()\n",
    "    return new_string\n",
    "myfunc(\"pramod\")"
   ]
  },
  {
   "cell_type": "code",
   "execution_count": null,
   "id": "c3331d8d",
   "metadata": {},
   "outputs": [],
   "source": []
  }
 ],
 "metadata": {
  "kernelspec": {
   "display_name": "Python 3 (ipykernel)",
   "language": "python",
   "name": "python3"
  },
  "language_info": {
   "codemirror_mode": {
    "name": "ipython",
    "version": 3
   },
   "file_extension": ".py",
   "mimetype": "text/x-python",
   "name": "python",
   "nbconvert_exporter": "python",
   "pygments_lexer": "ipython3",
   "version": "3.9.13"
  }
 },
 "nbformat": 4,
 "nbformat_minor": 5
}
