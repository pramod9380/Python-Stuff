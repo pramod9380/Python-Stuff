{
 "cells": [
  {
   "cell_type": "code",
   "execution_count": 1,
   "id": "2cdd65f4",
   "metadata": {},
   "outputs": [],
   "source": [
    "# WELCOME TO LOGICAL OPERATORS SECTION"
   ]
  },
  {
   "cell_type": "code",
   "execution_count": 2,
   "id": "684782de",
   "metadata": {},
   "outputs": [
    {
     "data": {
      "text/plain": [
       "4"
      ]
     },
     "execution_count": 2,
     "metadata": {},
     "output_type": "execute_result"
    }
   ],
   "source": [
    "4 and 4"
   ]
  },
  {
   "cell_type": "code",
   "execution_count": 3,
   "id": "c4a760d3",
   "metadata": {},
   "outputs": [
    {
     "data": {
      "text/plain": [
       "5"
      ]
     },
     "execution_count": 3,
     "metadata": {},
     "output_type": "execute_result"
    }
   ],
   "source": [
    "4 and 5"
   ]
  },
  {
   "cell_type": "code",
   "execution_count": 4,
   "id": "c54950db",
   "metadata": {},
   "outputs": [
    {
     "data": {
      "text/plain": [
       "10"
      ]
     },
     "execution_count": 4,
     "metadata": {},
     "output_type": "execute_result"
    }
   ],
   "source": [
    "5 and 10 "
   ]
  },
  {
   "cell_type": "code",
   "execution_count": 5,
   "id": "58c370f9",
   "metadata": {},
   "outputs": [
    {
     "data": {
      "text/plain": [
       "3"
      ]
     },
     "execution_count": 5,
     "metadata": {},
     "output_type": "execute_result"
    }
   ],
   "source": [
    "3 or 6"
   ]
  },
  {
   "cell_type": "code",
   "execution_count": 6,
   "id": "aad61f83",
   "metadata": {},
   "outputs": [
    {
     "data": {
      "text/plain": [
       "3"
      ]
     },
     "execution_count": 6,
     "metadata": {},
     "output_type": "execute_result"
    }
   ],
   "source": [
    "3 or 20"
   ]
  },
  {
   "cell_type": "code",
   "execution_count": 7,
   "id": "4f40cf82",
   "metadata": {},
   "outputs": [
    {
     "data": {
      "text/plain": [
       "False"
      ]
     },
     "execution_count": 7,
     "metadata": {},
     "output_type": "execute_result"
    }
   ],
   "source": [
    "2<3 and 3>5"
   ]
  },
  {
   "cell_type": "code",
   "execution_count": 8,
   "id": "b77d6d8a",
   "metadata": {},
   "outputs": [
    {
     "data": {
      "text/plain": [
       "True"
      ]
     },
     "execution_count": 8,
     "metadata": {},
     "output_type": "execute_result"
    }
   ],
   "source": [
    "2<3 and 3<5"
   ]
  },
  {
   "cell_type": "code",
   "execution_count": 9,
   "id": "5ce079c6",
   "metadata": {},
   "outputs": [
    {
     "data": {
      "text/plain": [
       "False"
      ]
     },
     "execution_count": 9,
     "metadata": {},
     "output_type": "execute_result"
    }
   ],
   "source": [
    "not True"
   ]
  },
  {
   "cell_type": "markdown",
   "id": "571a27bb",
   "metadata": {},
   "source": [
    "## Statements in python"
   ]
  },
  {
   "cell_type": "code",
   "execution_count": 10,
   "id": "7cc0807c",
   "metadata": {},
   "outputs": [],
   "source": [
    "# syntax of if statement\n",
    "\n",
    "# if some_condition :\n",
    "    # do something\n",
    "    \n",
    "# else :\n",
    "    # do something"
   ]
  },
  {
   "cell_type": "code",
   "execution_count": 11,
   "id": "89b49c02",
   "metadata": {},
   "outputs": [
    {
     "name": "stdout",
     "output_type": "stream",
     "text": [
      "12 is even number\n"
     ]
    }
   ],
   "source": [
    "var = 12 % 2\n",
    "\n",
    "if(var==0):\n",
    "    print(\"12 is even number\")\n",
    "else:\n",
    "    print(\"12 is odd number\")\n"
   ]
  },
  {
   "cell_type": "code",
   "execution_count": 13,
   "id": "f959b587",
   "metadata": {},
   "outputs": [
    {
     "name": "stdout",
     "output_type": "stream",
     "text": [
      "A Grade\n"
     ]
    }
   ],
   "source": [
    "marks = 87\n",
    "\n",
    "if(marks>90):\n",
    "    print(\"S Grade\")\n",
    "elif(marks>80):\n",
    "    print(\"A Grade\")\n",
    "elif(marks>70):\n",
    "    print(\"B Grade\")\n",
    "else:\n",
    "    print(\"Fail\")"
   ]
  },
  {
   "cell_type": "code",
   "execution_count": 15,
   "id": "9001d1b3",
   "metadata": {},
   "outputs": [],
   "source": [
    "## For Loops\n",
    "\n",
    "# use execute block of code \n",
    "\n",
    "# Syntax \n",
    "# for item_name in my_iterable:\n",
    "#    print(item_name)\n",
    "    "
   ]
  },
  {
   "cell_type": "code",
   "execution_count": 18,
   "id": "a431935c",
   "metadata": {},
   "outputs": [
    {
     "name": "stdout",
     "output_type": "stream",
     "text": [
      "1\n",
      "2\n",
      "3\n",
      "4\n",
      "5\n",
      "6\n",
      "7\n",
      "8\n",
      "9\n",
      "10\n"
     ]
    }
   ],
   "source": [
    "mylist = [1,2,3,4,5,6,7,8,9,10]\n",
    "for item in mylist:\n",
    "    print(item)"
   ]
  },
  {
   "cell_type": "code",
   "execution_count": 23,
   "id": "79fc7d1d",
   "metadata": {},
   "outputs": [
    {
     "name": "stdout",
     "output_type": "stream",
     "text": [
      "odd number : 1\n",
      "Even number : 2\n",
      "odd number : 3\n",
      "Even number : 4\n",
      "odd number : 5\n",
      "Even number : 6\n",
      "odd number : 7\n",
      "Even number : 8\n",
      "odd number : 9\n",
      "Even number : 10\n",
      "sum is 55\n"
     ]
    }
   ],
   "source": [
    "# Find the even number from the list\n",
    "sum = 0;\n",
    "for item in mylist:\n",
    "    sum +=item\n",
    "    if(item%2==0):\n",
    "        print(\"Even number : {}\".format(item))\n",
    "    else :\n",
    "        print(\"odd number : {}\".format(item))\n",
    "print(\"sum is {}\".format(sum))"
   ]
  },
  {
   "cell_type": "code",
   "execution_count": 24,
   "id": "0b26312c",
   "metadata": {},
   "outputs": [
    {
     "name": "stdout",
     "output_type": "stream",
     "text": [
      "H\n",
      "e\n",
      "l\n",
      "l\n",
      "o\n",
      " \n",
      "W\n",
      "o\n",
      "r\n",
      "l\n",
      "d\n"
     ]
    }
   ],
   "source": [
    "# for loop with strings\n",
    "\n",
    "mystring = \"Hello World\"\n",
    "\n",
    "for letter in mystring:\n",
    "    print(letter)"
   ]
  },
  {
   "cell_type": "code",
   "execution_count": 25,
   "id": "041a2f39",
   "metadata": {},
   "outputs": [
    {
     "name": "stdout",
     "output_type": "stream",
     "text": [
      "1\n",
      "2\n",
      "3\n",
      "4\n",
      "5\n"
     ]
    }
   ],
   "source": [
    "tup = (1,2,3,4,5)\n",
    "for item in tup:\n",
    "    print(item)"
   ]
  },
  {
   "cell_type": "code",
   "execution_count": 27,
   "id": "1e2b7ec3",
   "metadata": {},
   "outputs": [
    {
     "name": "stdout",
     "output_type": "stream",
     "text": [
      "1\n",
      "2\n",
      "3\n",
      "4\n",
      "5\n",
      "6\n",
      "7\n",
      "8\n"
     ]
    }
   ],
   "source": [
    "# tupple unpacking \n",
    "\n",
    "mylist = [(1,2),(3,4),(5,6),(7,8)]\n",
    "\n",
    "# for item in mylist:\n",
    "#     print(item)\n",
    "\n",
    "for (a,b) in mylist:\n",
    "    print(a)\n",
    "    print(b)"
   ]
  },
  {
   "cell_type": "code",
   "execution_count": 31,
   "id": "5f2ee7a9",
   "metadata": {},
   "outputs": [
    {
     "name": "stdout",
     "output_type": "stream",
     "text": [
      "0 is less than 5\n",
      "1 is less than 5\n",
      "2 is less than 5\n",
      "3 is less than 5\n",
      "4 is less than 5\n",
      "x is not less than 5\n"
     ]
    }
   ],
   "source": [
    "# While loop\n",
    "# while some_condition_true:\n",
    "    # do something\n",
    "    \n",
    "x=0\n",
    "while(x<5):\n",
    "    print (\"{} is less than 5\".format(x))\n",
    "    x+=1\n",
    "else:\n",
    "    print (\"x is not less than 5\")"
   ]
  },
  {
   "cell_type": "code",
   "execution_count": 34,
   "id": "40edbd17",
   "metadata": {},
   "outputs": [
    {
     "name": "stdout",
     "output_type": "stream",
     "text": [
      "1\n"
     ]
    }
   ],
   "source": [
    "# break , pass and continue keyword\n",
    "\n",
    "# break    : Breaks the current closest enclosing loop\n",
    "# continue : Goes to the top of the closest enclosing loop\n",
    "# pass     : Does nothing at all.\n",
    "\n",
    "x = [1,2,3]\n",
    "for item in x:\n",
    "    if(item==2):\n",
    "        pass\n",
    "    elif(item==1):\n",
    "        print(item)\n",
    "    else:\n",
    "        break"
   ]
  },
  {
   "cell_type": "code",
   "execution_count": 2,
   "id": "a7f02a6b",
   "metadata": {},
   "outputs": [
    {
     "name": "stdout",
     "output_type": "stream",
     "text": [
      "0\n",
      "1\n",
      "2\n",
      "3\n",
      "4\n",
      "5\n",
      "6\n",
      "7\n",
      "8\n",
      "9\n"
     ]
    }
   ],
   "source": [
    "# Range \n",
    "for item in range(10):\n",
    "    print(item)"
   ]
  },
  {
   "cell_type": "code",
   "execution_count": 3,
   "id": "7239c826",
   "metadata": {},
   "outputs": [
    {
     "name": "stdout",
     "output_type": "stream",
     "text": [
      "0\n",
      "2\n",
      "4\n",
      "6\n",
      "8\n"
     ]
    }
   ],
   "source": [
    "for num in range(0,10,2):\n",
    "    print(num)"
   ]
  },
  {
   "cell_type": "code",
   "execution_count": 4,
   "id": "c69e7afe",
   "metadata": {},
   "outputs": [
    {
     "data": {
      "text/plain": [
       "[0, 2, 4, 6, 8]"
      ]
     },
     "execution_count": 4,
     "metadata": {},
     "output_type": "execute_result"
    }
   ],
   "source": [
    "list(range(0,10,2))"
   ]
  },
  {
   "cell_type": "code",
   "execution_count": 5,
   "id": "2d03a7e0",
   "metadata": {},
   "outputs": [
    {
     "name": "stdout",
     "output_type": "stream",
     "text": [
      "At index 0 the letter is a\n",
      "At index 1 the letter is b\n",
      "At index 2 the letter is c\n",
      "At index 3 the letter is d\n",
      "At index 4 the letter is e\n"
     ]
    }
   ],
   "source": [
    "index_count = 0\n",
    "\n",
    "for letter in 'abcde':\n",
    "    print('At index {} the letter is {}'.format(index_count,letter))\n",
    "    index_count+=1"
   ]
  },
  {
   "cell_type": "code",
   "execution_count": 6,
   "id": "765b9c11",
   "metadata": {},
   "outputs": [
    {
     "name": "stdout",
     "output_type": "stream",
     "text": [
      "(0, 'a')\n",
      "(1, 'b')\n",
      "(2, 'c')\n",
      "(3, 'd')\n",
      "(4, 'e')\n"
     ]
    }
   ],
   "source": [
    "# enumrate example\n",
    "\n",
    "word = \"abcde\"\n",
    "\n",
    "for item in enumerate(word):\n",
    "    print(item)"
   ]
  },
  {
   "cell_type": "code",
   "execution_count": 7,
   "id": "faaa68c4",
   "metadata": {},
   "outputs": [
    {
     "name": "stdout",
     "output_type": "stream",
     "text": [
      "(1, 4)\n",
      "(2, 5)\n",
      "(3, 6)\n"
     ]
    }
   ],
   "source": [
    "# Zip example\n",
    "\n",
    "list1 = [1,2,3]\n",
    "list2 = [4,5,6]\n",
    "\n",
    "for item in zip(list1, list2):\n",
    "    print(item)"
   ]
  },
  {
   "cell_type": "code",
   "execution_count": 9,
   "id": "471cd3c4",
   "metadata": {},
   "outputs": [
    {
     "data": {
      "text/plain": [
       "True"
      ]
     },
     "execution_count": 9,
     "metadata": {},
     "output_type": "execute_result"
    }
   ],
   "source": [
    "# in operator\n",
    "\n",
    "# 'x' in [12,3,4]\n",
    "2 in [12,3,2]"
   ]
  },
  {
   "cell_type": "code",
   "execution_count": 10,
   "id": "fc05ed3c",
   "metadata": {},
   "outputs": [
    {
     "data": {
      "text/plain": [
       "1"
      ]
     },
     "execution_count": 10,
     "metadata": {},
     "output_type": "execute_result"
    }
   ],
   "source": [
    "# min \n",
    "min(list1)"
   ]
  },
  {
   "cell_type": "code",
   "execution_count": 11,
   "id": "3950c346",
   "metadata": {
    "scrolled": true
   },
   "outputs": [
    {
     "data": {
      "text/plain": [
       "3"
      ]
     },
     "execution_count": 11,
     "metadata": {},
     "output_type": "execute_result"
    }
   ],
   "source": [
    "max(list1)"
   ]
  },
  {
   "cell_type": "code",
   "execution_count": 15,
   "id": "5fcc13db",
   "metadata": {},
   "outputs": [],
   "source": [
    "from random import shuffle"
   ]
  },
  {
   "cell_type": "code",
   "execution_count": 13,
   "id": "6eac9fd1",
   "metadata": {},
   "outputs": [
    {
     "data": {
      "text/plain": [
       "[2, 3, 1]"
      ]
     },
     "execution_count": 13,
     "metadata": {},
     "output_type": "execute_result"
    }
   ],
   "source": [
    "shuffle(list1)\n",
    "list1"
   ]
  },
  {
   "cell_type": "code",
   "execution_count": 18,
   "id": "7f39ac24",
   "metadata": {},
   "outputs": [],
   "source": [
    "from random import randint"
   ]
  },
  {
   "cell_type": "code",
   "execution_count": 19,
   "id": "bfacf25b",
   "metadata": {},
   "outputs": [
    {
     "data": {
      "text/plain": [
       "30"
      ]
     },
     "execution_count": 19,
     "metadata": {},
     "output_type": "execute_result"
    }
   ],
   "source": [
    "randint(0,100)"
   ]
  },
  {
   "cell_type": "code",
   "execution_count": 20,
   "id": "abc146bf",
   "metadata": {},
   "outputs": [
    {
     "name": "stdout",
     "output_type": "stream",
     "text": [
      "enter a number23\n"
     ]
    }
   ],
   "source": [
    "number  = input('enter a number')"
   ]
  },
  {
   "cell_type": "markdown",
   "id": "1ff91430",
   "metadata": {},
   "source": []
  },
  {
   "cell_type": "code",
   "execution_count": 22,
   "id": "b97a793e",
   "metadata": {},
   "outputs": [
    {
     "data": {
      "text/plain": [
       "str"
      ]
     },
     "execution_count": 22,
     "metadata": {},
     "output_type": "execute_result"
    }
   ],
   "source": [
    "type(number)"
   ]
  },
  {
   "cell_type": "code",
   "execution_count": 23,
   "id": "5ec54a94",
   "metadata": {},
   "outputs": [
    {
     "data": {
      "text/plain": [
       "23"
      ]
     },
     "execution_count": 23,
     "metadata": {},
     "output_type": "execute_result"
    }
   ],
   "source": [
    "# type casting \n",
    "int(number)"
   ]
  },
  {
   "cell_type": "code",
   "execution_count": 25,
   "id": "f5cd1202",
   "metadata": {},
   "outputs": [
    {
     "name": "stdout",
     "output_type": "stream",
     "text": [
      "0 is a Even number \n",
      "1 is a odd number \n",
      "2 is a Even number \n",
      "3 is a odd number \n",
      "4 is a Even number \n",
      "5 is a odd number \n",
      "6 is a Even number \n",
      "7 is a odd number \n",
      "8 is a Even number \n",
      "9 is a odd number \n",
      "10 is a Even number \n",
      "11 is a odd number \n",
      "12 is a Even number \n",
      "13 is a odd number \n",
      "14 is a Even number \n",
      "15 is a odd number \n",
      "16 is a Even number \n",
      "17 is a odd number \n",
      "18 is a Even number \n",
      "19 is a odd number \n",
      "20 is a Even number \n",
      "21 is a odd number \n",
      "22 is a Even number \n",
      "23 is a odd number \n",
      "24 is a Even number \n",
      "25 is a odd number \n",
      "26 is a Even number \n",
      "27 is a odd number \n",
      "28 is a Even number \n",
      "29 is a odd number \n",
      "30 is a Even number \n",
      "31 is a odd number \n",
      "32 is a Even number \n",
      "33 is a odd number \n",
      "34 is a Even number \n",
      "35 is a odd number \n",
      "36 is a Even number \n",
      "37 is a odd number \n",
      "38 is a Even number \n",
      "39 is a odd number \n",
      "40 is a Even number \n",
      "41 is a odd number \n",
      "42 is a Even number \n",
      "43 is a odd number \n",
      "44 is a Even number \n",
      "45 is a odd number \n",
      "46 is a Even number \n",
      "47 is a odd number \n",
      "48 is a Even number \n",
      "49 is a odd number \n",
      "50 is a Even number \n",
      "51 is a odd number \n",
      "52 is a Even number \n",
      "53 is a odd number \n",
      "54 is a Even number \n",
      "55 is a odd number \n",
      "56 is a Even number \n",
      "57 is a odd number \n",
      "58 is a Even number \n",
      "59 is a odd number \n",
      "60 is a Even number \n",
      "61 is a odd number \n",
      "62 is a Even number \n",
      "63 is a odd number \n",
      "64 is a Even number \n",
      "65 is a odd number \n",
      "66 is a Even number \n",
      "67 is a odd number \n",
      "68 is a Even number \n",
      "69 is a odd number \n",
      "70 is a Even number \n",
      "71 is a odd number \n",
      "72 is a Even number \n",
      "73 is a odd number \n",
      "74 is a Even number \n",
      "75 is a odd number \n",
      "76 is a Even number \n",
      "77 is a odd number \n",
      "78 is a Even number \n",
      "79 is a odd number \n",
      "80 is a Even number \n",
      "81 is a odd number \n",
      "82 is a Even number \n",
      "83 is a odd number \n",
      "84 is a Even number \n",
      "85 is a odd number \n",
      "86 is a Even number \n",
      "87 is a odd number \n",
      "88 is a Even number \n",
      "89 is a odd number \n",
      "90 is a Even number \n",
      "91 is a odd number \n",
      "92 is a Even number \n",
      "93 is a odd number \n",
      "94 is a Even number \n",
      "95 is a odd number \n",
      "96 is a Even number \n",
      "97 is a odd number \n",
      "98 is a Even number \n",
      "99 is a odd number \n",
      "100 is a Even number \n"
     ]
    }
   ],
   "source": [
    "# FInd the odd number and even number from 0 to 100\n",
    "\n",
    "for num in range(0,101):\n",
    "    if(num % 2 == 0):\n",
    "        print(\"{} is a Even number \".format(num))\n",
    "    else:\n",
    "        print(\"{} is a odd number \".format(num))"
   ]
  },
  {
   "cell_type": "code",
   "execution_count": 37,
   "id": "a2279900",
   "metadata": {},
   "outputs": [
    {
     "name": "stdout",
     "output_type": "stream",
     "text": [
      "prime numbers are [2, 3, 5, 7, 11, 13, 17, 19, 23, 29, 31, 37, 41, 43, 47, 53, 59, 61, 67, 71, 73, 79, 83, 89, 97, 101, 103, 107, 109, 113, 127, 131, 137, 139, 149, 151, 157, 163, 167, 173, 179, 181, 191, 193, 197, 199, 211, 223, 227, 229, 233, 239, 241, 251, 257, 263, 269, 271, 277, 281, 283, 293, 307, 311, 313, 317, 331, 337, 347, 349, 353, 359, 367, 373, 379, 383, 389, 397, 401, 409, 419, 421, 431, 433, 439, 443, 449, 457, 461, 463, 467, 479, 487, 491, 499, 503, 509, 521, 523, 541, 547, 557, 563, 569, 571, 577, 587, 593, 599, 601, 607, 613, 617, 619, 631, 641, 643, 647, 653, 659, 661, 673, 677, 683, 691, 701, 709, 719, 727, 733, 739, 743, 751, 757, 761, 769, 773, 787, 797, 809, 811, 821, 823, 827, 829, 839, 853, 857, 859, 863, 877, 881, 883, 887, 907, 911, 919, 929, 937, 941, 947, 953, 967, 971, 977, 983, 991, 997]\n",
      "Total number of prime numbers in b/wn 0 to 100 is  168\n"
     ]
    }
   ],
   "source": [
    "# a write a program to find a prime numbers beetwen 1 to 20\n",
    "\n",
    "prime_check_list = [2,3,5,7]\n",
    "for num in range(3,1000):\n",
    "    flag = True\n",
    "    for num1 in prime_check_list:\n",
    "        if(num % num1 == 0):\n",
    "            flag = False\n",
    "            break\n",
    "    if(flag):\n",
    "        prime_check_list.append(num)\n",
    "#         print(\"{} is a prime number\".format(num))\n",
    "print(\"prime numbers are\", prime_check_list)    \n",
    "print(\"Total number of prime numbers in b/wn 0 to 100 is \", len(prime_check_list))"
   ]
  },
  {
   "cell_type": "code",
   "execution_count": 45,
   "id": "6ae1b641",
   "metadata": {},
   "outputs": [
    {
     "name": "stdout",
     "output_type": "stream",
     "text": [
      "Enter a number to get fiboncacci series10\n",
      "Fibonacci series is :  [0, 1, 1, 2, 3, 5, 8, 13, 21, 34]\n"
     ]
    }
   ],
   "source": [
    "# Write a program to find fibonacci series using user input \n",
    "\n",
    "number = int(input(\"Enter a number to get fiboncacci series\"))\n",
    "fib_list = list(range(0,number))\n",
    "fib_index = 2\n",
    "fib_series = [0,1]\n",
    "while(fib_index<len(fib_list)):\n",
    "    fib_series.append(fib_series[fib_index-1]+fib_series[fib_index-2])\n",
    "    fib_index+=1\n",
    "print(\"Fibonacci series is : \", fib_series)\n",
    "    \n",
    "    "
   ]
  },
  {
   "cell_type": "code",
   "execution_count": 51,
   "id": "e6f11dc2",
   "metadata": {},
   "outputs": [
    {
     "name": "stdout",
     "output_type": "stream",
     "text": [
      "Enter a number to get factorial of it 10\n",
      "Factorial of a numbe is 3628800\n"
     ]
    }
   ],
   "source": [
    "# Write a program to find factorial of a number \n",
    "\n",
    "number = int(input(\"Enter a number to get factorial of it \"))\n",
    "fact = 1\n",
    "for num in range(1,number+1):\n",
    "    fact *=num\n",
    "print(\"Factorial of a numbe is {}\".format(fact))"
   ]
  },
  {
   "cell_type": "code",
   "execution_count": 54,
   "id": "35aae2aa",
   "metadata": {},
   "outputs": [
    {
     "data": {
      "text/plain": [
       "['h', 'e', 'l', 'l', 'o']"
      ]
     },
     "execution_count": 54,
     "metadata": {},
     "output_type": "execute_result"
    }
   ],
   "source": [
    "# List comprehention\n",
    "\n",
    "mylist = []\n",
    "# for letter in 'hello':\n",
    "#     mylist.append(letter)\n",
    "\n",
    "mylist = [letter for letter in 'hello']\n",
    "mylist"
   ]
  },
  {
   "cell_type": "code",
   "execution_count": 56,
   "id": "208df6be",
   "metadata": {},
   "outputs": [
    {
     "data": {
      "text/plain": [
       "[3,\n",
       " 6,\n",
       " 9,\n",
       " 12,\n",
       " 15,\n",
       " 18,\n",
       " 21,\n",
       " 24,\n",
       " 27,\n",
       " 30,\n",
       " 33,\n",
       " 36,\n",
       " 39,\n",
       " 42,\n",
       " 45,\n",
       " 48,\n",
       " 51,\n",
       " 54,\n",
       " 57,\n",
       " 60,\n",
       " 63,\n",
       " 66,\n",
       " 69,\n",
       " 72,\n",
       " 75,\n",
       " 78,\n",
       " 81,\n",
       " 84,\n",
       " 87,\n",
       " 90,\n",
       " 93,\n",
       " 96,\n",
       " 99,\n",
       " 102,\n",
       " 105,\n",
       " 108,\n",
       " 111,\n",
       " 114,\n",
       " 117,\n",
       " 120,\n",
       " 123,\n",
       " 126,\n",
       " 129,\n",
       " 132,\n",
       " 135,\n",
       " 138,\n",
       " 141,\n",
       " 144,\n",
       " 147,\n",
       " 150,\n",
       " 153,\n",
       " 156,\n",
       " 159,\n",
       " 162,\n",
       " 165,\n",
       " 168,\n",
       " 171,\n",
       " 174,\n",
       " 177,\n",
       " 180,\n",
       " 183,\n",
       " 186,\n",
       " 189,\n",
       " 192,\n",
       " 195,\n",
       " 198,\n",
       " 201,\n",
       " 204,\n",
       " 207,\n",
       " 210,\n",
       " 213,\n",
       " 216,\n",
       " 219,\n",
       " 222,\n",
       " 225,\n",
       " 228,\n",
       " 231,\n",
       " 234,\n",
       " 237,\n",
       " 240,\n",
       " 243,\n",
       " 246,\n",
       " 249,\n",
       " 252,\n",
       " 255,\n",
       " 258,\n",
       " 261,\n",
       " 264,\n",
       " 267,\n",
       " 270,\n",
       " 273,\n",
       " 276,\n",
       " 279,\n",
       " 282,\n",
       " 285,\n",
       " 288,\n",
       " 291,\n",
       " 294,\n",
       " 297,\n",
       " 300,\n",
       " 303,\n",
       " 306,\n",
       " 309,\n",
       " 312,\n",
       " 315,\n",
       " 318,\n",
       " 321,\n",
       " 324,\n",
       " 327,\n",
       " 330,\n",
       " 333,\n",
       " 336,\n",
       " 339,\n",
       " 342,\n",
       " 345,\n",
       " 348,\n",
       " 351,\n",
       " 354,\n",
       " 357,\n",
       " 360,\n",
       " 363,\n",
       " 366,\n",
       " 369,\n",
       " 372,\n",
       " 375,\n",
       " 378,\n",
       " 381,\n",
       " 384,\n",
       " 387,\n",
       " 390,\n",
       " 393,\n",
       " 396,\n",
       " 399,\n",
       " 402,\n",
       " 405,\n",
       " 408,\n",
       " 411,\n",
       " 414,\n",
       " 417,\n",
       " 420,\n",
       " 423,\n",
       " 426,\n",
       " 429,\n",
       " 432,\n",
       " 435,\n",
       " 438,\n",
       " 441,\n",
       " 444,\n",
       " 447,\n",
       " 450,\n",
       " 453,\n",
       " 456,\n",
       " 459,\n",
       " 462,\n",
       " 465,\n",
       " 468,\n",
       " 471,\n",
       " 474,\n",
       " 477,\n",
       " 480,\n",
       " 483,\n",
       " 486,\n",
       " 489,\n",
       " 492,\n",
       " 495,\n",
       " 498]"
      ]
     },
     "execution_count": 56,
     "metadata": {},
     "output_type": "execute_result"
    }
   ],
   "source": [
    "# use alist comprehension to create a list of all numbers between 1 and 500 that are divisible by 3\n",
    "\n",
    "list_numbers_divisible_by_3 = [num for num in range(1,500) if(num%3==0)]\n",
    "list_numbers_divisible_by_3"
   ]
  },
  {
   "cell_type": "code",
   "execution_count": null,
   "id": "2cbcb450",
   "metadata": {},
   "outputs": [],
   "source": []
  }
 ],
 "metadata": {
  "kernelspec": {
   "display_name": "Python 3 (ipykernel)",
   "language": "python",
   "name": "python3"
  },
  "language_info": {
   "codemirror_mode": {
    "name": "ipython",
    "version": 3
   },
   "file_extension": ".py",
   "mimetype": "text/x-python",
   "name": "python",
   "nbconvert_exporter": "python",
   "pygments_lexer": "ipython3",
   "version": "3.9.13"
  }
 },
 "nbformat": 4,
 "nbformat_minor": 5
}
